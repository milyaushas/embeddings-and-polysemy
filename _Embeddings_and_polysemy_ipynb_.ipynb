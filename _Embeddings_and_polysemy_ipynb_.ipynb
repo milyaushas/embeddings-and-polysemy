{
  "cells": [
    {
      "cell_type": "markdown",
      "metadata": {
        "id": "839ihcWVLykV"
      },
      "source": [
        "# Predicting number of meanings for every word using simple linear regression model and pretrained embeddings\n",
        "\n"
      ]
    },
    {
      "cell_type": "markdown",
      "metadata": {
        "id": "sWXH1EqI1Fh4"
      },
      "source": [
        "### word2vec-google-news-300\n"
      ]
    },
    {
      "cell_type": "code",
      "execution_count": null,
      "metadata": {
        "id": "r7k-jLLWJ3DY"
      },
      "outputs": [],
      "source": [
        "import gensim.downloader as api\n",
        "\n",
        "w2v_google_news_300 = api.load('word2vec-google-news-300')\n",
        "w2v_google_news_300.save(\"word2vec-google-news-300.bin\")"
      ]
    },
    {
      "cell_type": "code",
      "execution_count": null,
      "metadata": {
        "id": "qbmbrA6nysWP"
      },
      "outputs": [],
      "source": [
        "from gensim.models import KeyedVectors\n",
        "\n",
        "w2v_model = KeyedVectors.load(\"word2vec-google-news-300.bin\")"
      ]
    },
    {
      "cell_type": "code",
      "execution_count": null,
      "metadata": {
        "colab": {
          "base_uri": "https://localhost:8080/"
        },
        "id": "7dBP_y11YIp4",
        "outputId": "1f0fee51-f06d-4212-d846-e22854f1f1f3"
      },
      "outputs": [
        {
          "output_type": "stream",
          "name": "stdout",
          "text": [
            "3000000\n"
          ]
        }
      ],
      "source": [
        "print(len(w2v_model.vocab)) #number of embeddings in our dataset"
      ]
    },
    {
      "cell_type": "markdown",
      "metadata": {
        "id": "KZH97bKKbsce"
      },
      "source": [
        "Counting number of meanings for every word in embeddings dataset skipping words that are not in the WordNet."
      ]
    },
    {
      "cell_type": "code",
      "execution_count": null,
      "metadata": {
        "id": "FBTB6C9LcOFC"
      },
      "outputs": [],
      "source": [
        "def prepare_data(model):\n",
        "  word_to_def_num = dict()\n",
        "\n",
        "  for lemma in wn.all_lemma_names():\n",
        "    if lemma in model.vocab:\n",
        "      word_to_def_num[lemma] = len(wn.synsets(lemma))\n",
        "  \n",
        "  return word_to_def_num"
      ]
    },
    {
      "cell_type": "code",
      "execution_count": null,
      "metadata": {
        "colab": {
          "base_uri": "https://localhost:8080/"
        },
        "id": "PMqTGpldzYKC",
        "outputId": "2764f92c-edc7-442d-94fd-aa7cab39ccf4"
      },
      "outputs": [
        {
          "output_type": "stream",
          "name": "stderr",
          "text": [
            "[nltk_data] Downloading package wordnet to /root/nltk_data...\n",
            "[nltk_data]   Package wordnet is already up-to-date!\n",
            "[nltk_data] Downloading package omw-1.4 to /root/nltk_data...\n",
            "[nltk_data]   Package omw-1.4 is already up-to-date!\n"
          ]
        },
        {
          "output_type": "execute_result",
          "data": {
            "text/plain": [
              "True"
            ]
          },
          "metadata": {},
          "execution_count": 8
        }
      ],
      "source": [
        "import nltk\n",
        "from nltk.corpus import wordnet as wn\n",
        "nltk.download('wordnet')\n",
        "nltk.download('omw-1.4')"
      ]
    },
    {
      "cell_type": "code",
      "execution_count": null,
      "metadata": {
        "id": "2URp1qAxgXY8"
      },
      "outputs": [],
      "source": [
        "word_to_definitions_count = prepare_data(w2v_model)"
      ]
    },
    {
      "cell_type": "code",
      "source": [
        "print(len(word_to_definitions_count))"
      ],
      "metadata": {
        "colab": {
          "base_uri": "https://localhost:8080/"
        },
        "id": "CHwgDOMIXttH",
        "outputId": "aa596920-f01c-4e65-a3f6-94761308e4cb"
      },
      "execution_count": null,
      "outputs": [
        {
          "output_type": "stream",
          "name": "stdout",
          "text": [
            "54586\n"
          ]
        }
      ]
    },
    {
      "cell_type": "markdown",
      "metadata": {
        "id": "bTEJNRY6hMNJ"
      },
      "source": [
        "Creating samples for linear regression model"
      ]
    },
    {
      "cell_type": "code",
      "execution_count": null,
      "metadata": {
        "id": "gAdPwPwvhXN_"
      },
      "outputs": [],
      "source": [
        "import random\n",
        "\n",
        "def sample(word_to_definitions_count, model):\n",
        "  words = list(word_to_definitions_count.keys())\n",
        "  random.shuffle(words)\n",
        "\n",
        "  X = np.array([model[w] for w in words])\n",
        "  y = np.array([word_to_definitions_count[w] for w in words])   \n",
        "\n",
        "  return X, y"
      ]
    },
    {
      "cell_type": "code",
      "execution_count": null,
      "metadata": {
        "id": "yMMT1jJNiy2o"
      },
      "outputs": [],
      "source": [
        "import numpy as np\n",
        "\n",
        "X, y = sample(word_to_definitions_count, w2v_model)"
      ]
    },
    {
      "cell_type": "code",
      "source": [
        "from sklearn.linear_model import LinearRegression\n",
        "from sklearn.model_selection import train_test_split\n",
        "\n",
        "X_train, X_test, y_train, y_test = train_test_split(X, y, test_size=0.2)\n",
        "lin_reg = LinearRegression().fit(X_train, y_train)"
      ],
      "metadata": {
        "id": "X7X-8gKN7Xkd"
      },
      "execution_count": null,
      "outputs": []
    },
    {
      "cell_type": "code",
      "execution_count": null,
      "metadata": {
        "id": "wHN7__kIkJ6c"
      },
      "outputs": [],
      "source": [
        "y_pred = lin_reg.predict(X_test)\n",
        "y_true = y_test"
      ]
    },
    {
      "cell_type": "code",
      "execution_count": null,
      "metadata": {
        "id": "n7I_tf-YlWtD"
      },
      "outputs": [],
      "source": [
        "from sklearn.metrics import mean_squared_error, mean_absolute_error, r2_score\n",
        "\n",
        "MSE = mean_squared_error(y_true, y_pred)\n",
        "print(\"MSE:\", MSE)\n",
        "\n",
        "MAE = mean_absolute_error(y_true, y_pred)\n",
        "print(\"MAE:\", MAE)\n",
        "\n",
        "r2 = r2_score(y_true, y_pred)\n",
        "print(\"R2 score:\", r2)"
      ]
    },
    {
      "cell_type": "markdown",
      "metadata": {
        "id": "R5NIgpn0me1I"
      },
      "source": [
        "Evaluating accuracy by rounding predicted values and checking if they are equal to true values\n"
      ]
    },
    {
      "cell_type": "code",
      "execution_count": null,
      "metadata": {
        "id": "mXxNrYVSol85"
      },
      "outputs": [],
      "source": [
        "def accuracy_1(y_true, y_predicted):\n",
        "  count = 0\n",
        "  for i in range(len(y_true)):\n",
        "    if y_true[i] == round(y_predicted[i]):\n",
        "      count += 1\n",
        "  return count / len(y_true)"
      ]
    },
    {
      "cell_type": "code",
      "execution_count": null,
      "metadata": {
        "id": "FNgfQGV2pC0R"
      },
      "outputs": [],
      "source": [
        "accuracy_1(y_true, y_pred)"
      ]
    },
    {
      "cell_type": "markdown",
      "metadata": {
        "id": "WhVCzlfVpWVS"
      },
      "source": [
        "Evaluating accuracy by checking if predicted values are close enough to true values"
      ]
    },
    {
      "cell_type": "code",
      "execution_count": null,
      "metadata": {
        "id": "ZqNenlhOqT-c"
      },
      "outputs": [],
      "source": [
        "def accuracy_2(y_true, y_predicted, eps):\n",
        "  count = 0\n",
        "  for i in range(len(y_true)):\n",
        "    if abs(y_true[i] - y_predicted[i]) <= eps:\n",
        "      count += 1\n",
        "  return count / len(y_true)"
      ]
    },
    {
      "cell_type": "code",
      "execution_count": null,
      "metadata": {
        "id": "BOV4cK-GrsVu"
      },
      "outputs": [],
      "source": [
        "accuracy_2(y_true, y_pred, 1)"
      ]
    },
    {
      "cell_type": "code",
      "execution_count": null,
      "metadata": {
        "id": "lB8O59OAr2Je"
      },
      "outputs": [],
      "source": [
        "accuracy_2(y_true, y_pred, 2)"
      ]
    },
    {
      "cell_type": "code",
      "execution_count": null,
      "metadata": {
        "id": "0ub-Dn5JxXz5"
      },
      "outputs": [],
      "source": [
        "import matplotlib.pyplot as plt\n",
        "\n",
        "def plot_distribution(word_to_def_num, min_value, max_value):\n",
        "  values = word_to_def_num.values()\n",
        "  plt.hist(values, bins=range(min_value, max_value + 1))\n",
        "  plt.xlabel(\"number of definitions for word in WordNet\")\n",
        "  plt.ylabel(\"number of words\")\n",
        "  plt.grid()"
      ]
    },
    {
      "cell_type": "markdown",
      "source": [
        "###do experiment multiple times and get mean scores"
      ],
      "metadata": {
        "id": "TFG-zDr4i_0f"
      }
    },
    {
      "cell_type": "code",
      "source": [
        "from sklearn.linear_model import LinearRegression\n",
        "from sklearn.model_selection import train_test_split\n",
        "from sklearn.metrics import mean_absolute_error, mean_squared_error\n",
        "import numpy as np\n",
        "\n",
        "def evaluate_embeddings(model, n):\n",
        "  word_to_defs = prepare_data(model)\n",
        "  X, y = sample(word_to_defs, model)\n",
        "\n",
        "  MSE = np.zeros(n)\n",
        "  MAE = np.zeros(n)\n",
        "  acc_1 = np.zeros(n)\n",
        "  acc_2 = np.zeros(n) \n",
        "  \n",
        "  for i in range(n):\n",
        "    X_train, X_test, y_train, y_test = train_test_split(X, y, test_size=0.2)\n",
        "    lin_reg = LinearRegression().fit(X_train, y_train)\n",
        "    \n",
        "    y_pred = lin_reg.predict(X_test)\n",
        "    y_true = y_test\n",
        "\n",
        "    MSE[i] = mean_squared_error(y_true, y_pred)\n",
        "    MAE[i] = mean_absolute_error(y_true, y_pred)\n",
        "    acc_1[i] = accuracy_1(y_true, y_pred)\n",
        "    acc_2[i] = accuracy_2(y_true, y_pred, 1)\n",
        "  \n",
        "  return MSE.mean(), MAE.mean(), acc_1.mean(), acc_2.mean(), len(word_to_defs)"
      ],
      "metadata": {
        "id": "PllPIuyYlvvT"
      },
      "execution_count": null,
      "outputs": []
    },
    {
      "cell_type": "code",
      "source": [
        "MSE, MAE, accuracy, accuracy_weak, ds_size = evaluate_embeddings(w2v_model, 100)"
      ],
      "metadata": {
        "id": "FyCHf-9En2MI"
      },
      "execution_count": null,
      "outputs": []
    },
    {
      "cell_type": "code",
      "source": [
        "print(MSE, MAE, accuracy, accuracy_weak, ds_size)"
      ],
      "metadata": {
        "colab": {
          "base_uri": "https://localhost:8080/"
        },
        "id": "AnMTCFmxpC8G",
        "outputId": "fb58e2f0-bef5-4a54-8193-ff93970cf730"
      },
      "execution_count": null,
      "outputs": [
        {
          "output_type": "stream",
          "name": "stdout",
          "text": [
            "6.171259707410332 1.4112131395942018 0.2614416559809489 0.4985281187030592 54586\n"
          ]
        }
      ]
    },
    {
      "cell_type": "markdown",
      "metadata": {
        "id": "YhlxWBWN42qw"
      },
      "source": [
        "### Histograms for our dataset used in the linear regression experiment"
      ]
    },
    {
      "cell_type": "code",
      "execution_count": null,
      "metadata": {
        "colab": {
          "base_uri": "https://localhost:8080/",
          "height": 279
        },
        "id": "RfmF2Lqyznfw",
        "outputId": "159f3635-e127-4202-89cd-5fc8cce06911"
      },
      "outputs": [
        {
          "output_type": "display_data",
          "data": {
            "text/plain": [
              "<Figure size 432x288 with 1 Axes>"
            ],
            "image/png": "[encoded data removed]"
          },
          "metadata": {
            "needs_background": "light"
          }
        }
      ],
      "source": [
        "plot_distribution(word_to_definitions_count, 1, 20)"
      ]
    },
    {
      "cell_type": "code",
      "execution_count": null,
      "metadata": {
        "colab": {
          "base_uri": "https://localhost:8080/",
          "height": 279
        },
        "id": "litn6jSs1Lnd",
        "outputId": "20deba4c-60d1-41d1-b1f1-a462c4520ea8"
      },
      "outputs": [
        {
          "output_type": "display_data",
          "data": {
            "text/plain": [
              "<Figure size 432x288 with 1 Axes>"
            ],
            "image/png": "[encoded data removed]"
          },
          "metadata": {
            "needs_background": "light"
          }
        }
      ],
      "source": [
        "plot_distribution(word_to_definitions_count, 1, 10)"
      ]
    },
    {
      "cell_type": "code",
      "execution_count": null,
      "metadata": {
        "colab": {
          "base_uri": "https://localhost:8080/",
          "height": 279
        },
        "id": "NUDrUpo81SpP",
        "outputId": "6dd40eee-1a90-42a1-ed30-2e04d3ec80ba"
      },
      "outputs": [
        {
          "output_type": "display_data",
          "data": {
            "text/plain": [
              "<Figure size 432x288 with 1 Axes>"
            ],
            "image/png": "[encoded data removed]"
          },
          "metadata": {
            "needs_background": "light"
          }
        }
      ],
      "source": [
        "plot_distribution(word_to_definitions_count, 1, 5)"
      ]
    },
    {
      "cell_type": "code",
      "execution_count": null,
      "metadata": {
        "id": "zye25zHB218s"
      },
      "outputs": [],
      "source": [
        "wn_def_num = {}\n",
        "\n",
        "for lemma in wn.all_lemma_names():\n",
        "  wn_def_num[lemma] = len(wn.synsets(lemma))"
      ]
    },
    {
      "cell_type": "markdown",
      "metadata": {
        "id": "egUFnve45JnR"
      },
      "source": [
        "Histograms for all words in the WordNet"
      ]
    },
    {
      "cell_type": "code",
      "execution_count": null,
      "metadata": {
        "colab": {
          "base_uri": "https://localhost:8080/",
          "height": 279
        },
        "id": "LzOn4_Ag329I",
        "outputId": "e7d1dd0c-f5ed-4da6-b9ea-97bbbb231169"
      },
      "outputs": [
        {
          "data": {
            "image/png": "[encoded data removed]",
            "text/plain": [
              "<Figure size 432x288 with 1 Axes>"
            ]
          },
          "metadata": {},
          "output_type": "display_data"
        }
      ],
      "source": [
        "plot_distribution(wn_def_num, 0, 70)"
      ]
    },
    {
      "cell_type": "code",
      "execution_count": null,
      "metadata": {
        "colab": {
          "base_uri": "https://localhost:8080/",
          "height": 279
        },
        "id": "W9F9i0zT3-Rn",
        "outputId": "b77ff57e-ab13-4aa6-d967-6ec314ca3c67"
      },
      "outputs": [
        {
          "data": {
            "image/png": "[encoded data removed]",
            "text/plain": [
              "<Figure size 432x288 with 1 Axes>"
            ]
          },
          "metadata": {},
          "output_type": "display_data"
        }
      ],
      "source": [
        "plot_distribution(wn_def_num, 0, 10)"
      ]
    },
    {
      "cell_type": "markdown",
      "metadata": {
        "id": "xdQMWIi560UX"
      },
      "source": [
        "Histograms for values predicted by linear regression classifier"
      ]
    },
    {
      "cell_type": "code",
      "execution_count": null,
      "metadata": {
        "colab": {
          "base_uri": "https://localhost:8080/",
          "height": 265
        },
        "id": "hHrk-hbc6z0X",
        "outputId": "188c0f85-b97c-456f-eb86-275bb3981c1a"
      },
      "outputs": [
        {
          "data": {
            "image/png": "[encoded data removed]",
            "text/plain": [
              "<Figure size 432x288 with 1 Axes>"
            ]
          },
          "metadata": {},
          "output_type": "display_data"
        }
      ],
      "source": [
        "import numpy as np\n",
        "import matplotlib.pyplot as plt\n",
        "plt.hist(y_pred, bins=range(-5, 20), alpha=0.5, label=\"predicted values\")\n",
        "plt.hist(y_true, bins=range(-5, 20), alpha=0.5, label=\"true values\")\n",
        "plt.legend()\n",
        "plt.grid()\n",
        "plt.show()\n"
      ]
    },
    {
      "cell_type": "markdown",
      "metadata": {
        "id": "Mq91RnnUVdPB"
      },
      "source": [
        "## normalized word2vec-google-news\n"
      ]
    },
    {
      "cell_type": "code",
      "execution_count": null,
      "metadata": {
        "id": "cct1CXR9V5r1"
      },
      "outputs": [],
      "source": [
        "w2v_model.init_sims(replace=True)"
      ]
    },
    {
      "cell_type": "code",
      "execution_count": null,
      "metadata": {
        "id": "_zNv1hG4fYxi"
      },
      "outputs": [],
      "source": [
        "norm_word_to_def_count = prepare_data(w2v_model)"
      ]
    },
    {
      "cell_type": "code",
      "execution_count": null,
      "metadata": {
        "id": "lzRN9Jb1kn3D"
      },
      "outputs": [],
      "source": [
        "import numpy as np\n",
        "\n",
        "X, y = sample(norm_word_to_def_count, w2v_model)"
      ]
    },
    {
      "cell_type": "code",
      "execution_count": null,
      "metadata": {
        "colab": {
          "base_uri": "https://localhost:8080/"
        },
        "id": "gpoRKjwNsEar",
        "outputId": "3a13a71a-bf4c-4ae0-895d-3cb0e678285d"
      },
      "outputs": [
        {
          "name": "stdout",
          "output_type": "stream",
          "text": [
            "-0.0012134771\n",
            "-0.3197764\n",
            "0.28714082\n",
            "2.3084490528706993\n",
            "1\n",
            "75\n"
          ]
        }
      ],
      "source": [
        "print(X.mean())\n",
        "print(X.min())\n",
        "print(X.max())\n",
        "print(y.mean())\n",
        "print(y.min())\n",
        "print(y.max())"
      ]
    },
    {
      "cell_type": "code",
      "execution_count": null,
      "metadata": {
        "id": "v2XrhEgvlFh8"
      },
      "outputs": [],
      "source": [
        "from sklearn.model_selection import train_test_split\n",
        "\n",
        "X_train, X_test, y_train, y_test = train_test_split(X, y, test_size=0.2, random_state=389234)"
      ]
    },
    {
      "cell_type": "code",
      "execution_count": null,
      "metadata": {
        "id": "rMCgh6xYk1J0"
      },
      "outputs": [],
      "source": [
        "from sklearn.linear_model import LinearRegression\n",
        "\n",
        "lin_reg = LinearRegression().fit(X_train, y_train)"
      ]
    },
    {
      "cell_type": "code",
      "execution_count": null,
      "metadata": {
        "id": "lJw7NdidsxSH"
      },
      "outputs": [],
      "source": [
        "y_pred = lin_reg.predict(X_test)\n",
        "y_true = y_test"
      ]
    },
    {
      "cell_type": "code",
      "execution_count": null,
      "metadata": {
        "colab": {
          "base_uri": "https://localhost:8080/"
        },
        "id": "Ihb9xz1es-y0",
        "outputId": "86fa6525-0eb8-4a4d-9f2b-cfe84a6d74f3"
      },
      "outputs": [
        {
          "name": "stdout",
          "output_type": "stream",
          "text": [
            "MSE:  5.219964528330426\n",
            "MAE:  1.3776527779795438\n",
            "R2 score:  0.30801227328290504\n"
          ]
        }
      ],
      "source": [
        "from sklearn.metrics import mean_squared_error, mean_absolute_error, r2_score\n",
        "print(\"MSE: \", mean_squared_error(y_true, y_pred))\n",
        "print(\"MAE: \", mean_absolute_error(y_true, y_pred))\n",
        "print(\"R2 score: \", r2_score(y_true, y_pred))"
      ]
    },
    {
      "cell_type": "markdown",
      "metadata": {
        "id": "35WBHmMljoIN"
      },
      "source": [
        "## fasttext-wiki-news-subwords-300 \n"
      ]
    },
    {
      "cell_type": "code",
      "execution_count": null,
      "metadata": {
        "id": "6wkY1r0O2r8w"
      },
      "outputs": [],
      "source": [
        "import gensim.downloader as api\n",
        "from gensim.models import KeyedVectors\n",
        "import numpy as np\n",
        "from sklearn.model_selection import train_test_split\n",
        "from sklearn.linear_model import LinearRegression\n",
        "from sklearn.metrics import mean_squared_error, mean_absolute_error, r2_score\n",
        "import matplotlib.pyplot as plt"
      ]
    },
    {
      "cell_type": "code",
      "execution_count": null,
      "metadata": {
        "colab": {
          "base_uri": "https://localhost:8080/"
        },
        "id": "z4UJANR6kjSs",
        "outputId": "c0b527a2-bdbc-4ac0-e125-3e300039ea56"
      },
      "outputs": [
        {
          "output_type": "stream",
          "name": "stdout",
          "text": [
            "[==================================================] 100.0% 958.5/958.4MB downloaded\n"
          ]
        }
      ],
      "source": [
        "ft_model = api.load(\"fasttext-wiki-news-subwords-300\")"
      ]
    },
    {
      "cell_type": "code",
      "execution_count": null,
      "metadata": {
        "colab": {
          "background_save": true
        },
        "id": "ryWM5Jr6k5ly"
      },
      "outputs": [],
      "source": [
        "ft_model.save(\"fasttext-wiki-news-subwords-300.bin\")"
      ]
    },
    {
      "cell_type": "code",
      "execution_count": null,
      "metadata": {
        "colab": {
          "background_save": true
        },
        "id": "yfgyuQlNlQhd"
      },
      "outputs": [],
      "source": [
        "ft_model = KeyedVectors.load(\"fasttext-wiki-news-subwords-300.bin\")"
      ]
    },
    {
      "cell_type": "code",
      "execution_count": null,
      "metadata": {
        "colab": {
          "background_save": true
        },
        "id": "dDuuplXdgQvQ",
        "outputId": "e61b8e08-734f-4032-f6a8-54bea4692a03"
      },
      "outputs": [
        {
          "ename": "NameError",
          "evalue": "ignored",
          "output_type": "error",
          "traceback": [
            "\u001b[0;31m---------------------------------------------------------------------------\u001b[0m",
            "\u001b[0;31mNameError\u001b[0m                                 Traceback (most recent call last)",
            "\u001b[0;32m<ipython-input-5-0590248bd2bc>\u001b[0m in \u001b[0;36m<module>\u001b[0;34m\u001b[0m\n\u001b[0;32m----> 1\u001b[0;31m \u001b[0mword_to_defs\u001b[0m \u001b[0;34m=\u001b[0m \u001b[0mprepare_data\u001b[0m\u001b[0;34m(\u001b[0m\u001b[0mft_model\u001b[0m\u001b[0;34m)\u001b[0m\u001b[0;34m\u001b[0m\u001b[0;34m\u001b[0m\u001b[0m\n\u001b[0m\u001b[1;32m      2\u001b[0m \u001b[0mprint\u001b[0m\u001b[0;34m(\u001b[0m\u001b[0;34m\"Dataset size:\"\u001b[0m\u001b[0;34m,\u001b[0m \u001b[0mlen\u001b[0m\u001b[0;34m(\u001b[0m\u001b[0mword_to_defs\u001b[0m\u001b[0;34m.\u001b[0m\u001b[0mkeys\u001b[0m\u001b[0;34m(\u001b[0m\u001b[0;34m)\u001b[0m\u001b[0;34m)\u001b[0m\u001b[0;34m)\u001b[0m\u001b[0;34m\u001b[0m\u001b[0;34m\u001b[0m\u001b[0m\n",
            "\u001b[0;31mNameError\u001b[0m: name 'prepare_data' is not defined"
          ]
        }
      ],
      "source": [
        "word_to_defs = prepare_data(ft_model)\n",
        "print(\"Dataset size:\", len(word_to_defs.keys()))"
      ]
    },
    {
      "cell_type": "code",
      "execution_count": null,
      "metadata": {
        "colab": {
          "background_save": true
        },
        "id": "s3phaMl6jSbk"
      },
      "outputs": [],
      "source": [
        "def apply_linear_regression(model, word_to_def_count):\n",
        "  X, y = sample(word_to_def_count, model)\n",
        "  X_train, X_test, y_train, y_test = train_test_split(X, y, test_size=0.2, random_state=42)\n",
        "  lin_reg = LinearRegression().fit(X_train, y_train)\n",
        "  y_pred = lin_reg.predict(X_test)\n",
        "  y_true = y_test\n",
        "  \n",
        "  return y_true, y_pred"
      ]
    },
    {
      "cell_type": "code",
      "execution_count": null,
      "metadata": {
        "colab": {
          "background_save": true
        },
        "id": "9YPXpUv0kNWH"
      },
      "outputs": [],
      "source": [
        "def print_results(MSE, MAE, R2_score):\n",
        "  for i in range(len(MSE)):\n",
        "    print(i)\n",
        "    print(\"MSE:\", MSE[i])\n",
        "    print(\"MAE:\", MAE[i])\n",
        "    print(\"R2_score\", R2_score[i])\n",
        "    print(\"\\n\")"
      ]
    },
    {
      "cell_type": "code",
      "execution_count": null,
      "metadata": {
        "colab": {
          "background_save": true
        },
        "id": "JsfRXLqQoVwc"
      },
      "outputs": [],
      "source": [
        "def plot_results(metric):\n",
        "  n = len(metric)\n",
        "  x = np.array([i for i in range(1, n + 1)])\n",
        "  plt.plot(x, metric)\n",
        "  plt.grid()"
      ]
    },
    {
      "cell_type": "code",
      "execution_count": null,
      "metadata": {
        "colab": {
          "background_save": true
        },
        "id": "kr5TVIITsZR0"
      },
      "outputs": [],
      "source": [
        "def repeat_lin_reg(model, word_to_def_count, iter):\n",
        "  MSE = np.empty(iter)\n",
        "  MAE = np.empty(iter)\n",
        "  R2_score = np.empty(iter)\n",
        "\n",
        "  for i in range(iter):\n",
        "    y_true, y_pred = apply_linear_regression(model, word_to_def_count)\n",
        "    MSE[i] = mean_squared_error(y_true, y_pred)\n",
        "    MAE[i] = mean_absolute_error(y_true, y_pred)\n",
        "    R2_score = r2_score(y_true, y_pred)\n",
        "  return MSE, MAE, R2_score"
      ]
    },
    {
      "cell_type": "code",
      "execution_count": null,
      "metadata": {
        "colab": {
          "background_save": true
        },
        "id": "ZUkSkXhwwnVI"
      },
      "outputs": [],
      "source": [
        "MSE, MAE, R2_score = repeat_lin_reg(ft_model, word_to_defs, 100)"
      ]
    },
    {
      "cell_type": "code",
      "execution_count": null,
      "metadata": {
        "colab": {
          "background_save": true
        },
        "id": "PlTthjtj6_kq"
      },
      "outputs": [],
      "source": [
        "print(MSE.min())\n",
        "print(MSE.max())\n",
        "print(MSE.mean())"
      ]
    },
    {
      "cell_type": "code",
      "execution_count": null,
      "metadata": {
        "colab": {
          "background_save": true
        },
        "id": "U1deVZYEqOCi"
      },
      "outputs": [],
      "source": [
        "plot_results(MSE)"
      ]
    },
    {
      "cell_type": "code",
      "execution_count": null,
      "metadata": {
        "colab": {
          "background_save": true
        },
        "id": "P4kByWweqTiu"
      },
      "outputs": [],
      "source": [
        "plot_results(MAE)"
      ]
    },
    {
      "cell_type": "code",
      "execution_count": null,
      "metadata": {
        "colab": {
          "background_save": true
        },
        "id": "S7qnoLrIqsR8"
      },
      "outputs": [],
      "source": [
        "plt.hist(word_to_defs.values(), bins=range(0, 20))\n",
        "plt.xlabel(\"number of definitions in the WordNet\")\n",
        "plt.ylabel(\"number of words\")"
      ]
    },
    {
      "cell_type": "markdown",
      "metadata": {
        "id": "XDZMx6nPyHK1"
      },
      "source": [
        "Evaluating accuracy by rounding predicted values"
      ]
    },
    {
      "cell_type": "code",
      "execution_count": null,
      "metadata": {
        "colab": {
          "background_save": true
        },
        "id": "xZNOKnPJrOdj"
      },
      "outputs": [],
      "source": [
        "y_true, y_pred = apply_linear_regression(ft_model, word_to_defs)\n",
        "print(accuracy_1(y_true, y_pred))"
      ]
    },
    {
      "cell_type": "markdown",
      "metadata": {
        "id": "iyiLhTntz7QE"
      },
      "source": [
        "Evaluating accuracy by checking if differences between predicted and true value are less or equal to 1"
      ]
    },
    {
      "cell_type": "code",
      "execution_count": null,
      "metadata": {
        "colab": {
          "background_save": true
        },
        "id": "9D-HgSQ6z2iz"
      },
      "outputs": [],
      "source": [
        "y_true, y_pred = apply_linear_regression(ft_model, word_to_defs)\n",
        "print(accuracy_2(y_true, y_pred, 1))"
      ]
    },
    {
      "cell_type": "code",
      "execution_count": null,
      "metadata": {
        "colab": {
          "background_save": true
        },
        "id": "UaCCn7czynNh"
      },
      "outputs": [],
      "source": [
        "plt.hist(y_true, alpha=0.5, label=\"true values\", bins=range(-1, 20))\n",
        "plt.hist(y_pred, alpha=0.5, label=\"predicted values\", bins=range(-1, 20))"
      ]
    },
    {
      "cell_type": "code",
      "source": [
        "MSE, MAE, accuracy, accuracy_weak, ds_size = evaluate_embeddings(ft_model, 100)\n",
        "\n",
        "print(accuracy, accuracy_weak, MSE, MAE, ds_size)"
      ],
      "metadata": {
        "colab": {
          "base_uri": "https://localhost:8080/"
        },
        "id": "lGGwIu3XqvwR",
        "outputId": "258c4cdb-a378-4e0c-e304-badd772aabd1"
      },
      "execution_count": null,
      "outputs": [
        {
          "output_type": "stream",
          "name": "stdout",
          "text": [
            "0.31485928221017306 0.5679783113865221 5.085742672875187 1.2588486268221741 58091\n"
          ]
        }
      ]
    },
    {
      "cell_type": "markdown",
      "metadata": {
        "id": "Ffn9be1qSDsv"
      },
      "source": [
        "## glove-wiki-gigaword-50\n"
      ]
    },
    {
      "cell_type": "code",
      "execution_count": null,
      "metadata": {
        "id": "8APKkz5SwKZ0"
      },
      "outputs": [],
      "source": [
        "import gensim.downloader as api\n",
        "from gensim.models import KeyedVectors\n",
        "import numpy as np\n",
        "from sklearn.model_selection import train_test_split\n",
        "from sklearn.linear_model import LinearRegression\n",
        "from sklearn.metrics import mean_squared_error, mean_absolute_error, r2_score\n",
        "import matplotlib.pyplot as pl"
      ]
    },
    {
      "cell_type": "code",
      "execution_count": null,
      "metadata": {
        "colab": {
          "base_uri": "https://localhost:8080/"
        },
        "id": "Ja536oNpTVVH",
        "outputId": "fbca8d54-3d3d-4844-8697-f11f87f590ab"
      },
      "outputs": [
        {
          "output_type": "stream",
          "name": "stdout",
          "text": [
            "[==================================================] 100.0% 66.0/66.0MB downloaded\n"
          ]
        }
      ],
      "source": [
        "model = api.load(\"glove-wiki-gigaword-50\")"
      ]
    },
    {
      "cell_type": "code",
      "execution_count": null,
      "metadata": {
        "colab": {
          "base_uri": "https://localhost:8080/"
        },
        "id": "27IuddUDTMfi",
        "outputId": "1f8c0b9b-3cc0-4a44-bf53-10fd5118bae0"
      },
      "outputs": [
        {
          "name": "stdout",
          "output_type": "stream",
          "text": [
            "Dataset size: 55666\n"
          ]
        }
      ],
      "source": [
        "word_to_defs = prepare_data(model)\n",
        "print(\"Dataset size:\", len(word_to_defs))"
      ]
    },
    {
      "cell_type": "code",
      "execution_count": null,
      "metadata": {
        "colab": {
          "base_uri": "https://localhost:8080/"
        },
        "id": "MNun22qsb6z2",
        "outputId": "53e17b1d-117b-4843-d81a-9e75860e94dd"
      },
      "outputs": [
        {
          "name": "stdout",
          "output_type": "stream",
          "text": [
            "0.327195976288845\n"
          ]
        }
      ],
      "source": [
        "y_true, y_pred = apply_linear_regression(model, word_to_defs)\n",
        "print(accuracy_1(y_true, y_pred))"
      ]
    },
    {
      "cell_type": "code",
      "execution_count": null,
      "metadata": {
        "id": "dHqLlsw0cVgD"
      },
      "outputs": [],
      "source": [
        "MSE, MAE, _ = repeat_lin_reg(model, word_to_defs, 100)"
      ]
    },
    {
      "cell_type": "code",
      "execution_count": null,
      "metadata": {
        "id": "Ylnixie195hp"
      },
      "outputs": [],
      "source": [
        "import matplotlib.pyplot as plt"
      ]
    },
    {
      "cell_type": "code",
      "execution_count": null,
      "metadata": {
        "colab": {
          "base_uri": "https://localhost:8080/",
          "height": 265
        },
        "id": "Dok9lgmsdTTN",
        "outputId": "7a1ba5a0-a64b-40f7-e125-80ee00223c83"
      },
      "outputs": [
        {
          "data": {
            "image/png": "[encoded data removed]",
            "text/plain": [
              "<Figure size 432x288 with 1 Axes>"
            ]
          },
          "metadata": {},
          "output_type": "display_data"
        }
      ],
      "source": [
        "plot_results(MSE)"
      ]
    },
    {
      "cell_type": "code",
      "execution_count": null,
      "metadata": {
        "colab": {
          "base_uri": "https://localhost:8080/",
          "height": 265
        },
        "id": "Sw3HAZaadYwb",
        "outputId": "bac0da5e-659b-4f43-fffe-a5a09fabd348"
      },
      "outputs": [
        {
          "data": {
            "image/png": "[encoded data removed]",
            "text/plain": [
              "<Figure size 432x288 with 1 Axes>"
            ]
          },
          "metadata": {},
          "output_type": "display_data"
        }
      ],
      "source": [
        "plot_results(MAE)"
      ]
    },
    {
      "cell_type": "code",
      "execution_count": null,
      "metadata": {
        "colab": {
          "base_uri": "https://localhost:8080/",
          "height": 390
        },
        "id": "QM2th4AqdnV6",
        "outputId": "c4733862-0dff-4ec5-e7d5-fb346f3bf5af"
      },
      "outputs": [
        {
          "data": {
            "text/plain": [
              "(array([    0., 30826., 11212.,  5178.,  2700.,  1696.,  1036.,   816.,\n",
              "          462.,   356.,   279.,   202.,   149.,   130.,    86.,    85.,\n",
              "           72.,    60.,    80.]),\n",
              " array([ 0,  1,  2,  3,  4,  5,  6,  7,  8,  9, 10, 11, 12, 13, 14, 15, 16,\n",
              "        17, 18, 19]),\n",
              " <a list of 19 Patch objects>)"
            ]
          },
          "execution_count": 48,
          "metadata": {},
          "output_type": "execute_result"
        },
        {
          "data": {
            "image/png": "[encoded data removed]",
            "text/plain": [
              "<Figure size 432x288 with 1 Axes>"
            ]
          },
          "metadata": {},
          "output_type": "display_data"
        }
      ],
      "source": [
        "plt.hist(word_to_defs.values(), bins=range(0, 20))"
      ]
    },
    {
      "cell_type": "code",
      "execution_count": null,
      "metadata": {
        "id": "Bd2OP_VIBrxm",
        "colab": {
          "base_uri": "https://localhost:8080/"
        },
        "outputId": "aed4b473-0787-433b-aa5d-31c2aa2a362e"
      },
      "outputs": [
        {
          "output_type": "stream",
          "name": "stdout",
          "text": [
            "0.3262349559906592 0.5676666067900126 5.903195617275612 1.3140603841417502 55666\n"
          ]
        }
      ],
      "source": [
        "MSE, MAE, accuracy, accuracy_weak, ds_size = evaluate_embeddings(model, 100)\n",
        "\n",
        "print(accuracy, accuracy_weak, MSE, MAE, ds_size)"
      ]
    },
    {
      "cell_type": "markdown",
      "source": [
        "##glove-wiki-gigaword-100"
      ],
      "metadata": {
        "id": "gIc77QfFxd2d"
      }
    },
    {
      "cell_type": "code",
      "source": [
        "model = api.load(\"glove-wiki-gigaword-100\")"
      ],
      "metadata": {
        "colab": {
          "base_uri": "https://localhost:8080/"
        },
        "id": "rAQm6xTDxmJu",
        "outputId": "4ebff695-ed20-4560-cba4-95dff592534d"
      },
      "execution_count": null,
      "outputs": [
        {
          "output_type": "stream",
          "name": "stdout",
          "text": [
            "[==============================================----] 93.9% 120.2/128.1MB downloaded\n"
          ]
        }
      ]
    },
    {
      "cell_type": "code",
      "source": [
        "MSE, MAE, accuracy, accuracy_weak, ds_size = evaluate_embeddings(model, 100)\n",
        "\n",
        "print(accuracy, accuracy_weak, MSE, MAE, ds_size)"
      ],
      "metadata": {
        "colab": {
          "base_uri": "https://localhost:8080/"
        },
        "id": "4_SCCiuTxwbh",
        "outputId": "802c34b1-332d-4f18-e710-f95c78b84d66"
      },
      "execution_count": null,
      "outputs": [
        {
          "output_type": "stream",
          "name": "stdout",
          "text": [
            "0.34642716005029633 0.5935099694629065 5.462452574610049 1.2587495545450564 55666\n"
          ]
        }
      ]
    },
    {
      "cell_type": "markdown",
      "source": [
        "##glove-wiki-gigaword-200"
      ],
      "metadata": {
        "id": "hazpAaAjz5wl"
      }
    },
    {
      "cell_type": "code",
      "source": [
        "model = api.load(\"glove-wiki-gigaword-200\")"
      ],
      "metadata": {
        "colab": {
          "base_uri": "https://localhost:8080/"
        },
        "id": "umdEjuXU0Dzc",
        "outputId": "5bc31b59-8196-4d4a-c159-7f6035274db7"
      },
      "execution_count": null,
      "outputs": [
        {
          "output_type": "stream",
          "name": "stdout",
          "text": [
            "[==================================================] 100.0% 252.1/252.1MB downloaded\n"
          ]
        }
      ]
    },
    {
      "cell_type": "code",
      "source": [
        "MSE, MAE, accuracy, accuracy_weak, ds_size = evaluate_embeddings(model, 100)\n",
        "\n",
        "print(accuracy, accuracy_weak, MSE, MAE, ds_size)"
      ],
      "metadata": {
        "colab": {
          "base_uri": "https://localhost:8080/"
        },
        "id": "dBMZTuDQ0Xb2",
        "outputId": "350d7f6e-9a6a-4d6b-9339-e60e944c8ae7"
      },
      "execution_count": null,
      "outputs": [
        {
          "output_type": "stream",
          "name": "stdout",
          "text": [
            "0.3469894018322256 0.5964505119453924 5.5799524280007065 1.2622467530936468 55666\n"
          ]
        }
      ]
    },
    {
      "cell_type": "markdown",
      "source": [
        "##glove-wiki-gigaword-300"
      ],
      "metadata": {
        "id": "rMKvV9vF12zU"
      }
    },
    {
      "cell_type": "code",
      "source": [
        "model = api.load(\"glove-wiki-gigaword-300\")"
      ],
      "metadata": {
        "colab": {
          "base_uri": "https://localhost:8080/"
        },
        "id": "QRL_fvQC1-Ft",
        "outputId": "da3ca34f-f025-4e06-fd7e-a18169656d5a"
      },
      "execution_count": null,
      "outputs": [
        {
          "output_type": "stream",
          "name": "stdout",
          "text": [
            "[=================================================-] 99.3% 373.4/376.1MB downloaded\n"
          ]
        }
      ]
    },
    {
      "cell_type": "code",
      "source": [
        "MSE, MAE, accuracy, accuracy_weak, ds_size = evaluate_embeddings(model, 100)\n",
        "\n",
        "print(accuracy, accuracy_weak, MSE, MAE, ds_size)"
      ],
      "metadata": {
        "colab": {
          "base_uri": "https://localhost:8080/"
        },
        "id": "kEp-VTBw2Cii",
        "outputId": "db73c27d-2d1d-4a37-feff-f05977135a11"
      },
      "execution_count": null,
      "outputs": [
        {
          "output_type": "stream",
          "name": "stdout",
          "text": [
            "0.3422938746182863 0.5945114065026047 5.678120398388909 1.2667505599297377 55666\n"
          ]
        }
      ]
    },
    {
      "cell_type": "markdown",
      "source": [
        "##glove-twitter-25"
      ],
      "metadata": {
        "id": "jIKknF1V3vFr"
      }
    },
    {
      "cell_type": "code",
      "source": [
        "model = api.load(\"glove-twitter-25\")"
      ],
      "metadata": {
        "colab": {
          "base_uri": "https://localhost:8080/"
        },
        "id": "aMiTH2eC32xu",
        "outputId": "822586f0-166d-45c1-cab4-5be7fd6b6295"
      },
      "execution_count": null,
      "outputs": [
        {
          "output_type": "stream",
          "name": "stdout",
          "text": [
            "[==================================================] 100.0% 104.8/104.8MB downloaded\n"
          ]
        }
      ]
    },
    {
      "cell_type": "code",
      "source": [
        "MSE, MAE, accuracy, accuracy_weak, ds_size = evaluate_embeddings(model, 100)\n",
        "\n",
        "print(accuracy, accuracy_weak, MSE, MAE, ds_size)"
      ],
      "metadata": {
        "colab": {
          "base_uri": "https://localhost:8080/"
        },
        "id": "SsKqfbwM30IV",
        "outputId": "6042c111-cb0f-45fd-bec5-da814ecc58ae"
      },
      "execution_count": null,
      "outputs": [
        {
          "output_type": "stream",
          "name": "stdout",
          "text": [
            "0.25088848594741614 0.46694469628286484 8.160224088441392 1.631643239019402 38601\n"
          ]
        }
      ]
    },
    {
      "cell_type": "markdown",
      "source": [
        "##glove-twitter-50"
      ],
      "metadata": {
        "id": "dEnG1QvU5CsM"
      }
    },
    {
      "cell_type": "code",
      "source": [
        "model = api.load(\"glove-twitter-50\")"
      ],
      "metadata": {
        "colab": {
          "base_uri": "https://localhost:8080/"
        },
        "id": "C8AoZ2Kh5Lna",
        "outputId": "426a060c-badc-451c-8a08-2f66aca8f32e"
      },
      "execution_count": null,
      "outputs": [
        {
          "output_type": "stream",
          "name": "stdout",
          "text": [
            "[==================================================] 100.0% 199.5/199.5MB downloaded\n"
          ]
        }
      ]
    },
    {
      "cell_type": "code",
      "source": [
        "MSE, MAE, accuracy, accuracy_weak, ds_size = evaluate_embeddings(model, 100)\n",
        "\n",
        "print(accuracy, accuracy_weak, MSE, MAE, ds_size)"
      ],
      "metadata": {
        "colab": {
          "base_uri": "https://localhost:8080/"
        },
        "id": "fKM5-qe7784x",
        "outputId": "0ea68c7e-08f0-416d-aaff-e164352726f1"
      },
      "execution_count": null,
      "outputs": [
        {
          "output_type": "stream",
          "name": "stdout",
          "text": [
            "0.25955187151923326 0.4731524413936019 7.969836283652261 1.606372492928422 38601\n"
          ]
        }
      ]
    },
    {
      "cell_type": "markdown",
      "source": [
        "##glove-twitter-100\n"
      ],
      "metadata": {
        "id": "UPn103aW8njL"
      }
    },
    {
      "cell_type": "code",
      "source": [
        "model = api.load(\"glove-twitter-100\")"
      ],
      "metadata": {
        "id": "Qjf8bZmn8tz1"
      },
      "execution_count": null,
      "outputs": []
    },
    {
      "cell_type": "code",
      "source": [
        "MSE, MAE, accuracy, accuracy_weak, ds_size = evaluate_embeddings(model, 100)\n",
        "\n",
        "print(accuracy, accuracy_weak, MSE, MAE, ds_size)"
      ],
      "metadata": {
        "colab": {
          "base_uri": "https://localhost:8080/"
        },
        "id": "RaZfmOPr9jNo",
        "outputId": "27e59455-88fe-4b7e-f881-3177b7a15dde"
      },
      "execution_count": null,
      "outputs": [
        {
          "output_type": "stream",
          "name": "stdout",
          "text": [
            "0.2612174588783836 0.4777839658075379 7.63119724939635 1.5822997689474092 38601\n"
          ]
        }
      ]
    },
    {
      "cell_type": "markdown",
      "source": [
        "##glove-twitter-200\n"
      ],
      "metadata": {
        "id": "dF1rP_Gw-fvD"
      }
    },
    {
      "cell_type": "code",
      "source": [
        "model = api.load(\"glove-twitter-200\")"
      ],
      "metadata": {
        "id": "j5Hhge2d-lLE"
      },
      "execution_count": null,
      "outputs": []
    },
    {
      "cell_type": "code",
      "source": [
        "MSE, MAE, accuracy, accuracy_weak, ds_size = evaluate_embeddings(model, 100)\n",
        "\n",
        "print(accuracy, accuracy_weak, MSE, MAE, ds_size)"
      ],
      "metadata": {
        "colab": {
          "base_uri": "https://localhost:8080/"
        },
        "id": "UweODNrw-5I4",
        "outputId": "69b4d6c1-b9c3-4535-f2f3-bb05aae11243"
      },
      "execution_count": null,
      "outputs": [
        {
          "output_type": "stream",
          "name": "stdout",
          "text": [
            "0.263757285325735 0.4832728921124207 7.4049081456626675 1.5578108730197355 38601\n"
          ]
        }
      ]
    },
    {
      "cell_type": "markdown",
      "source": [
        "# XGBoost experiments"
      ],
      "metadata": {
        "id": "QiizaerDESql"
      }
    },
    {
      "cell_type": "code",
      "source": [
        "import gensim.downloader as api\n",
        "from gensim.models import KeyedVectors\n",
        "import numpy as np\n",
        "from sklearn.model_selection import train_test_split\n",
        "from sklearn.linear_model import LinearRegression\n",
        "from sklearn.metrics import mean_squared_error, mean_absolute_error, r2_score\n",
        "import matplotlib.pyplot as pl"
      ],
      "metadata": {
        "id": "nHSt_StHEYWr"
      },
      "execution_count": null,
      "outputs": []
    },
    {
      "cell_type": "code",
      "source": [
        "def prepare_data(model):\n",
        "  word_to_def_num = dict()\n",
        "\n",
        "  for lemma in wn.all_lemma_names():\n",
        "    if lemma in model.vocab:\n",
        "      word_to_def_num[lemma] = len(wn.synsets(lemma))\n",
        "  \n",
        "  return word_to_def_num"
      ],
      "metadata": {
        "id": "UAYBXk0XEnzW"
      },
      "execution_count": null,
      "outputs": []
    },
    {
      "cell_type": "code",
      "source": [
        "import random\n",
        "\n",
        "def sample(word_to_definitions_count, model):\n",
        "  words = list(word_to_definitions_count.keys())\n",
        "  random.shuffle(words)\n",
        "\n",
        "  X = np.array([model[w] for w in words])\n",
        "  y = np.array([word_to_definitions_count[w] for w in words])   \n",
        "\n",
        "  return X, y"
      ],
      "metadata": {
        "id": "xBS2V1K3RZmH"
      },
      "execution_count": null,
      "outputs": []
    },
    {
      "cell_type": "code",
      "source": [
        "model = api.load(\"word2vec-google-news-300\")"
      ],
      "metadata": {
        "id": "lWpbBIBXRiI6"
      },
      "execution_count": null,
      "outputs": []
    },
    {
      "cell_type": "code",
      "source": [
        "word_to_defs = prepare_data(model)"
      ],
      "metadata": {
        "id": "rbXl86YiR1Tn"
      },
      "execution_count": null,
      "outputs": []
    },
    {
      "cell_type": "code",
      "source": [
        "X, y = sample(word_to_defs, model)"
      ],
      "metadata": {
        "id": "lsc9SVuUTWLo"
      },
      "execution_count": null,
      "outputs": []
    },
    {
      "cell_type": "code",
      "source": [
        "from xgboost import XGBRegressor\n",
        "\n",
        "XGB_model = XGBRegressor(n_estimators=1000, max_depth=10, eta=0.01, subsample=1, colsample_bytree=1)"
      ],
      "metadata": {
        "id": "JM_fk9HNTfQN"
      },
      "execution_count": null,
      "outputs": []
    },
    {
      "cell_type": "code",
      "source": [
        "from sklearn.model_selection import train_test_split\n",
        "from sklearn.metrics import mean_squared_error as MSE\n",
        "\n",
        "X_train, X_test, y_train, y_test = train_test_split(X, y, test_size=0.2)\n",
        "XGB_model.fit(X_train, y_train)"
      ],
      "metadata": {
        "colab": {
          "base_uri": "https://localhost:8080/"
        },
        "id": "WLzO0kcGUf0o",
        "outputId": "837c5112-730d-4088-c4a7-6823988d28a7"
      },
      "execution_count": null,
      "outputs": [
        {
          "metadata": {
            "tags": null
          },
          "name": "stdout",
          "output_type": "stream",
          "text": [
            "[19:43:32] WARNING: /workspace/src/objective/regression_obj.cu:152: reg:linear is now deprecated in favor of reg:squarederror.\n"
          ]
        },
        {
          "output_type": "execute_result",
          "data": {
            "text/plain": [
              "XGBRegressor(eta=0.01, max_depth=10, n_estimators=1000)"
            ]
          },
          "metadata": {},
          "execution_count": 38
        }
      ]
    },
    {
      "cell_type": "code",
      "source": [
        "y_pred = XGB_model.predict(X_test)\n",
        "MSE(y_test, y_pred)"
      ],
      "metadata": {
        "colab": {
          "base_uri": "https://localhost:8080/"
        },
        "id": "AnZIza2GV41I",
        "outputId": "996d9f08-5262-4c80-931e-ce80fa24a46b"
      },
      "execution_count": null,
      "outputs": [
        {
          "output_type": "execute_result",
          "data": {
            "text/plain": [
              "6.162211231891875"
            ]
          },
          "metadata": {},
          "execution_count": 39
        }
      ]
    },
    {
      "cell_type": "code",
      "execution_count": null,
      "metadata": {
        "id": "KNKC8OwGXMBZ"
      },
      "outputs": [],
      "source": [
        "def accuracy_1(y_true, y_predicted):\n",
        "  count = 0\n",
        "  for i in range(len(y_true)):\n",
        "    if y_true[i] == round(y_predicted[i]):\n",
        "      count += 1\n",
        "  return count / len(y_true)\n",
        "\n",
        "def accuracy_2(y_true, y_predicted, eps):\n",
        "  count = 0\n",
        "  for i in range(len(y_true)):\n",
        "    if abs(y_true[i] - y_predicted[i]) <= eps:\n",
        "      count += 1\n",
        "  return count / len(y_true)"
      ]
    },
    {
      "cell_type": "code",
      "source": [
        "accuracy_1(y_test, y_pred)"
      ],
      "metadata": {
        "colab": {
          "base_uri": "https://localhost:8080/"
        },
        "id": "kZqqXrkzXQzw",
        "outputId": "a4710433-4863-43a1-ed64-d894b02a7f35"
      },
      "execution_count": null,
      "outputs": [
        {
          "output_type": "execute_result",
          "data": {
            "text/plain": [
              "0.3634365268364169"
            ]
          },
          "metadata": {},
          "execution_count": 40
        }
      ]
    },
    {
      "cell_type": "code",
      "source": [
        "accuracy_2(y_test, y_pred, 1)"
      ],
      "metadata": {
        "colab": {
          "base_uri": "https://localhost:8080/"
        },
        "id": "slfup6NoXXsj",
        "outputId": "29eecc2f-199d-4396-fe75-d495c0e07c39"
      },
      "execution_count": null,
      "outputs": [
        {
          "output_type": "execute_result",
          "data": {
            "text/plain": [
              "0.6118336691701777"
            ]
          },
          "metadata": {},
          "execution_count": 41
        }
      ]
    },
    {
      "cell_type": "markdown",
      "source": [
        "##find hyperparameters for XGBRegressor"
      ],
      "metadata": {
        "id": "aLL7ck14o85A"
      }
    },
    {
      "cell_type": "code",
      "source": [
        "import numpy as np\n",
        "from sklearn.model_selection import train_test_split\n",
        "from sklearn.metrics import mean_squared_error as MSE\n",
        "from xgboost import XGBRegressor\n",
        "from hyperopt import fmin, hp, tpe, Trials, space_eval, STATUS_OK\n",
        "\n",
        "def objective(search_space):\n",
        "    model = XGBRegressor(**search_space)\n",
        "    model.fit(X_train, y_train)\n",
        "    y_pred = model.predict(X_test)\n",
        "    mse = MSE(y_test, y_pred)\n",
        "    return {'loss': mse, 'status': STATUS_OK}\n",
        "\n",
        "model = api.load(\"word2vec-google-news-300\")\n",
        "word_to_defs = prepare_data(model)\n",
        "X, y = sample(word_to_defs, model)\n",
        "X_train, X_test, y_train, y_test = train_test_split(X, y, test_size=0.2)\n",
        "\n",
        "search_space={\n",
        "            'n_estimators': hp.choice('n_estimators', range(10, 50)),\n",
        "            'eta': hp.choice('eta', [0.03, 0.25, 0.5, 1]),\n",
        "            'max_depth':  hp.choice('max_depth', np.arange(1, 10, dtype=int)),\n",
        "}\n",
        "\n",
        "best_params = fmin(\n",
        "    fn=objective,\n",
        "    space=search_space,\n",
        "    algo=tpe.suggest,\n",
        "    max_evals=100\n",
        "    )\n",
        "\n",
        "print(best_params)"
      ],
      "metadata": {
        "colab": {
          "base_uri": "https://localhost:8080/"
        },
        "id": "4v-fv8JZpDQe",
        "outputId": "b747da91-dbcd-4178-fe56-d377ed10bbd7"
      },
      "execution_count": null,
      "outputs": [
        {
          "output_type": "stream",
          "name": "stdout",
          "text": [
            "[18:03:39] WARNING: /workspace/src/objective/regression_obj.cu:152: reg:linear is now deprecated in favor of reg:squarederror.\n",
            "[18:03:58] WARNING: /workspace/src/objective/regression_obj.cu:152: reg:linear is now deprecated in favor of reg:squarederror.\n",
            "[18:04:45] WARNING: /workspace/src/objective/regression_obj.cu:152: reg:linear is now deprecated in favor of reg:squarederror.\n",
            "[18:05:47] WARNING: /workspace/src/objective/regression_obj.cu:152: reg:linear is now deprecated in favor of reg:squarederror.\n",
            "[18:05:58] WARNING: /workspace/src/objective/regression_obj.cu:152: reg:linear is now deprecated in favor of reg:squarederror.\n",
            "[18:06:58] WARNING: /workspace/src/objective/regression_obj.cu:152: reg:linear is now deprecated in favor of reg:squarederror.\n",
            "[18:07:16] WARNING: /workspace/src/objective/regression_obj.cu:152: reg:linear is now deprecated in favor of reg:squarederror.\n",
            "[18:07:33] WARNING: /workspace/src/objective/regression_obj.cu:152: reg:linear is now deprecated in favor of reg:squarederror.\n",
            "[18:07:49] WARNING: /workspace/src/objective/regression_obj.cu:152: reg:linear is now deprecated in favor of reg:squarederror.\n",
            "[18:08:13] WARNING: /workspace/src/objective/regression_obj.cu:152: reg:linear is now deprecated in favor of reg:squarederror.\n",
            "[18:08:24] WARNING: /workspace/src/objective/regression_obj.cu:152: reg:linear is now deprecated in favor of reg:squarederror.\n",
            "[18:08:40] WARNING: /workspace/src/objective/regression_obj.cu:152: reg:linear is now deprecated in favor of reg:squarederror.\n",
            "[18:09:33] WARNING: /workspace/src/objective/regression_obj.cu:152: reg:linear is now deprecated in favor of reg:squarederror.\n",
            "[18:10:11] WARNING: /workspace/src/objective/regression_obj.cu:152: reg:linear is now deprecated in favor of reg:squarederror.\n",
            "[18:10:58] WARNING: /workspace/src/objective/regression_obj.cu:152: reg:linear is now deprecated in favor of reg:squarederror.\n",
            "[18:11:24] WARNING: /workspace/src/objective/regression_obj.cu:152: reg:linear is now deprecated in favor of reg:squarederror.\n",
            "[18:11:57] WARNING: /workspace/src/objective/regression_obj.cu:152: reg:linear is now deprecated in favor of reg:squarederror.\n",
            "[18:12:59] WARNING: /workspace/src/objective/regression_obj.cu:152: reg:linear is now deprecated in favor of reg:squarederror.\n",
            "[18:13:06] WARNING: /workspace/src/objective/regression_obj.cu:152: reg:linear is now deprecated in favor of reg:squarederror.\n",
            "[18:13:18] WARNING: /workspace/src/objective/regression_obj.cu:152: reg:linear is now deprecated in favor of reg:squarederror.\n",
            "[18:13:23] WARNING: /workspace/src/objective/regression_obj.cu:152: reg:linear is now deprecated in favor of reg:squarederror.\n",
            "[18:14:12] WARNING: /workspace/src/objective/regression_obj.cu:152: reg:linear is now deprecated in favor of reg:squarederror.\n",
            "[18:14:55] WARNING: /workspace/src/objective/regression_obj.cu:152: reg:linear is now deprecated in favor of reg:squarederror.\n",
            "[18:15:56] WARNING: /workspace/src/objective/regression_obj.cu:152: reg:linear is now deprecated in favor of reg:squarederror.\n",
            "[18:17:09] WARNING: /workspace/src/objective/regression_obj.cu:152: reg:linear is now deprecated in favor of reg:squarederror.\n",
            "[18:17:37] WARNING: /workspace/src/objective/regression_obj.cu:152: reg:linear is now deprecated in favor of reg:squarederror.\n",
            "[18:18:14] WARNING: /workspace/src/objective/regression_obj.cu:152: reg:linear is now deprecated in favor of reg:squarederror.\n",
            "[18:18:25] WARNING: /workspace/src/objective/regression_obj.cu:152: reg:linear is now deprecated in favor of reg:squarederror.\n",
            "[18:19:13] WARNING: /workspace/src/objective/regression_obj.cu:152: reg:linear is now deprecated in favor of reg:squarederror.\n",
            "[18:19:48] WARNING: /workspace/src/objective/regression_obj.cu:152: reg:linear is now deprecated in favor of reg:squarederror.\n",
            "[18:20:07] WARNING: /workspace/src/objective/regression_obj.cu:152: reg:linear is now deprecated in favor of reg:squarederror.\n",
            "[18:20:18] WARNING: /workspace/src/objective/regression_obj.cu:152: reg:linear is now deprecated in favor of reg:squarederror.\n",
            "[18:20:29] WARNING: /workspace/src/objective/regression_obj.cu:152: reg:linear is now deprecated in favor of reg:squarederror.\n",
            "[18:20:45] WARNING: /workspace/src/objective/regression_obj.cu:152: reg:linear is now deprecated in favor of reg:squarederror.\n",
            "[18:20:51] WARNING: /workspace/src/objective/regression_obj.cu:152: reg:linear is now deprecated in favor of reg:squarederror.\n",
            "[18:21:51] WARNING: /workspace/src/objective/regression_obj.cu:152: reg:linear is now deprecated in favor of reg:squarederror.\n",
            "[18:22:13] WARNING: /workspace/src/objective/regression_obj.cu:152: reg:linear is now deprecated in favor of reg:squarederror.\n",
            "[18:22:26] WARNING: /workspace/src/objective/regression_obj.cu:152: reg:linear is now deprecated in favor of reg:squarederror.\n",
            "[18:22:33] WARNING: /workspace/src/objective/regression_obj.cu:152: reg:linear is now deprecated in favor of reg:squarederror.\n",
            "[18:23:29] WARNING: /workspace/src/objective/regression_obj.cu:152: reg:linear is now deprecated in favor of reg:squarederror.\n",
            "[18:24:19] WARNING: /workspace/src/objective/regression_obj.cu:152: reg:linear is now deprecated in favor of reg:squarederror.\n",
            "[18:24:39] WARNING: /workspace/src/objective/regression_obj.cu:152: reg:linear is now deprecated in favor of reg:squarederror.\n",
            "[18:24:57] WARNING: /workspace/src/objective/regression_obj.cu:152: reg:linear is now deprecated in favor of reg:squarederror.\n",
            "[18:25:30] WARNING: /workspace/src/objective/regression_obj.cu:152: reg:linear is now deprecated in favor of reg:squarederror.\n",
            "[18:25:39] WARNING: /workspace/src/objective/regression_obj.cu:152: reg:linear is now deprecated in favor of reg:squarederror.\n",
            "[18:26:30] WARNING: /workspace/src/objective/regression_obj.cu:152: reg:linear is now deprecated in favor of reg:squarederror.\n",
            "[18:27:05] WARNING: /workspace/src/objective/regression_obj.cu:152: reg:linear is now deprecated in favor of reg:squarederror.\n",
            "[18:27:38] WARNING: /workspace/src/objective/regression_obj.cu:152: reg:linear is now deprecated in favor of reg:squarederror.\n",
            "[18:28:08] WARNING: /workspace/src/objective/regression_obj.cu:152: reg:linear is now deprecated in favor of reg:squarederror.\n",
            "[18:28:25] WARNING: /workspace/src/objective/regression_obj.cu:152: reg:linear is now deprecated in favor of reg:squarederror.\n",
            "[18:29:28] WARNING: /workspace/src/objective/regression_obj.cu:152: reg:linear is now deprecated in favor of reg:squarederror.\n",
            "[18:29:36] WARNING: /workspace/src/objective/regression_obj.cu:152: reg:linear is now deprecated in favor of reg:squarederror.\n",
            "[18:30:27] WARNING: /workspace/src/objective/regression_obj.cu:152: reg:linear is now deprecated in favor of reg:squarederror.\n",
            "[18:30:40] WARNING: /workspace/src/objective/regression_obj.cu:152: reg:linear is now deprecated in favor of reg:squarederror.\n",
            "[18:31:26] WARNING: /workspace/src/objective/regression_obj.cu:152: reg:linear is now deprecated in favor of reg:squarederror.\n",
            "[18:31:39] WARNING: /workspace/src/objective/regression_obj.cu:152: reg:linear is now deprecated in favor of reg:squarederror.\n",
            "[18:32:41] WARNING: /workspace/src/objective/regression_obj.cu:152: reg:linear is now deprecated in favor of reg:squarederror.\n",
            "[18:33:01] WARNING: /workspace/src/objective/regression_obj.cu:152: reg:linear is now deprecated in favor of reg:squarederror.\n",
            "[18:34:22] WARNING: /workspace/src/objective/regression_obj.cu:152: reg:linear is now deprecated in favor of reg:squarederror.\n",
            "[18:34:27] WARNING: /workspace/src/objective/regression_obj.cu:152: reg:linear is now deprecated in favor of reg:squarederror.\n",
            "[18:34:46] WARNING: /workspace/src/objective/regression_obj.cu:152: reg:linear is now deprecated in favor of reg:squarederror.\n",
            "[18:35:13] WARNING: /workspace/src/objective/regression_obj.cu:152: reg:linear is now deprecated in favor of reg:squarederror.\n",
            "[18:35:32] WARNING: /workspace/src/objective/regression_obj.cu:152: reg:linear is now deprecated in favor of reg:squarederror.\n",
            "[18:36:26] WARNING: /workspace/src/objective/regression_obj.cu:152: reg:linear is now deprecated in favor of reg:squarederror.\n",
            "[18:36:43] WARNING: /workspace/src/objective/regression_obj.cu:152: reg:linear is now deprecated in favor of reg:squarederror.\n",
            "[18:36:58] WARNING: /workspace/src/objective/regression_obj.cu:152: reg:linear is now deprecated in favor of reg:squarederror.\n",
            "[18:38:01] WARNING: /workspace/src/objective/regression_obj.cu:152: reg:linear is now deprecated in favor of reg:squarederror.\n",
            "[18:39:05] WARNING: /workspace/src/objective/regression_obj.cu:152: reg:linear is now deprecated in favor of reg:squarederror.\n",
            "[18:40:07] WARNING: /workspace/src/objective/regression_obj.cu:152: reg:linear is now deprecated in favor of reg:squarederror.\n",
            "[18:41:09] WARNING: /workspace/src/objective/regression_obj.cu:152: reg:linear is now deprecated in favor of reg:squarederror.\n",
            "[18:41:37] WARNING: /workspace/src/objective/regression_obj.cu:152: reg:linear is now deprecated in favor of reg:squarederror.\n",
            "[18:42:25] WARNING: /workspace/src/objective/regression_obj.cu:152: reg:linear is now deprecated in favor of reg:squarederror.\n",
            "[18:42:42] WARNING: /workspace/src/objective/regression_obj.cu:152: reg:linear is now deprecated in favor of reg:squarederror.\n",
            "[18:42:46] WARNING: /workspace/src/objective/regression_obj.cu:152: reg:linear is now deprecated in favor of reg:squarederror.\n",
            "[18:43:16] WARNING: /workspace/src/objective/regression_obj.cu:152: reg:linear is now deprecated in favor of reg:squarederror.\n",
            "[18:43:46] WARNING: /workspace/src/objective/regression_obj.cu:152: reg:linear is now deprecated in favor of reg:squarederror.\n",
            "[18:44:39] WARNING: /workspace/src/objective/regression_obj.cu:152: reg:linear is now deprecated in favor of reg:squarederror.\n",
            "[18:45:53] WARNING: /workspace/src/objective/regression_obj.cu:152: reg:linear is now deprecated in favor of reg:squarederror.\n",
            "[18:46:11] WARNING: /workspace/src/objective/regression_obj.cu:152: reg:linear is now deprecated in favor of reg:squarederror.\n",
            "[18:46:15] WARNING: /workspace/src/objective/regression_obj.cu:152: reg:linear is now deprecated in favor of reg:squarederror.\n",
            "[18:46:31] WARNING: /workspace/src/objective/regression_obj.cu:152: reg:linear is now deprecated in favor of reg:squarederror.\n",
            "[18:46:44] WARNING: /workspace/src/objective/regression_obj.cu:152: reg:linear is now deprecated in favor of reg:squarederror.\n",
            "[18:46:59] WARNING: /workspace/src/objective/regression_obj.cu:152: reg:linear is now deprecated in favor of reg:squarederror.\n",
            "[18:47:19] WARNING: /workspace/src/objective/regression_obj.cu:152: reg:linear is now deprecated in favor of reg:squarederror.\n",
            "[18:47:58] WARNING: /workspace/src/objective/regression_obj.cu:152: reg:linear is now deprecated in favor of reg:squarederror.\n",
            "[18:48:10] WARNING: /workspace/src/objective/regression_obj.cu:152: reg:linear is now deprecated in favor of reg:squarederror.\n",
            "[18:48:45] WARNING: /workspace/src/objective/regression_obj.cu:152: reg:linear is now deprecated in favor of reg:squarederror.\n",
            "[18:49:53] WARNING: /workspace/src/objective/regression_obj.cu:152: reg:linear is now deprecated in favor of reg:squarederror.\n",
            "[18:51:09] WARNING: /workspace/src/objective/regression_obj.cu:152: reg:linear is now deprecated in favor of reg:squarederror.\n",
            "[18:51:15] WARNING: /workspace/src/objective/regression_obj.cu:152: reg:linear is now deprecated in favor of reg:squarederror.\n",
            "[18:51:56] WARNING: /workspace/src/objective/regression_obj.cu:152: reg:linear is now deprecated in favor of reg:squarederror.\n",
            "[18:52:36] WARNING: /workspace/src/objective/regression_obj.cu:152: reg:linear is now deprecated in favor of reg:squarederror.\n",
            "[18:53:40] WARNING: /workspace/src/objective/regression_obj.cu:152: reg:linear is now deprecated in favor of reg:squarederror.\n",
            "[18:54:09] WARNING: /workspace/src/objective/regression_obj.cu:152: reg:linear is now deprecated in favor of reg:squarederror.\n",
            "[18:55:13] WARNING: /workspace/src/objective/regression_obj.cu:152: reg:linear is now deprecated in favor of reg:squarederror.\n",
            "[18:55:33] WARNING: /workspace/src/objective/regression_obj.cu:152: reg:linear is now deprecated in favor of reg:squarederror.\n",
            "[18:55:46] WARNING: /workspace/src/objective/regression_obj.cu:152: reg:linear is now deprecated in favor of reg:squarederror.\n",
            "[18:56:51] WARNING: /workspace/src/objective/regression_obj.cu:152: reg:linear is now deprecated in favor of reg:squarederror.\n",
            "[18:57:11] WARNING: /workspace/src/objective/regression_obj.cu:152: reg:linear is now deprecated in favor of reg:squarederror.\n",
            "[18:58:16] WARNING: /workspace/src/objective/regression_obj.cu:152: reg:linear is now deprecated in favor of reg:squarederror.\n",
            "100%|██████████| 100/100 [55:22<00:00, 33.23s/it, best loss: 6.057438451997066]\n",
            "{'eta': 2, 'max_depth': 6, 'n_estimators': 39}\n"
          ]
        }
      ]
    },
    {
      "cell_type": "code",
      "source": [
        "from sklearn.model_selection import train_test_split\n",
        "from sklearn.metrics import mean_absolute_error, mean_squared_error\n",
        "from xgboost import XGBRegressor\n",
        "import numpy as np\n",
        "\n",
        "def evaluate_xgboost(model, n):\n",
        "  word_to_defs = prepare_data(model)\n",
        "  X, y = sample(word_to_defs, model)\n",
        "\n",
        "  MSE = np.zeros(n)\n",
        "  MAE = np.zeros(n)\n",
        "  acc_1 = np.zeros(n)\n",
        "  acc_2 = np.zeros(n) \n",
        "  \n",
        "  for i in range(n):\n",
        "    X_train, X_test, y_train, y_test = train_test_split(X, y, test_size=0.2)\n",
        "    xgboost = XGBRegressor(n_estimators=100, max_depth=10, eta=0.01)\n",
        "    xgboost.fit(X_train, y_train)\n",
        "    y_pred = xgboost.predict(X_test)\n",
        "    y_true = y_test\n",
        "\n",
        "    MSE[i] = mean_squared_error(y_true, y_pred)\n",
        "    MAE[i] = mean_absolute_error(y_true, y_pred)\n",
        "    acc_1[i] = accuracy_1(y_true, y_pred)\n",
        "    acc_2[i] = accuracy_2(y_true, y_pred, 1)\n",
        "  \n",
        "  return MSE.mean(), MAE.mean(), acc_1.mean(), acc_2.mean(), len(word_to_defs)"
      ],
      "metadata": {
        "id": "nAWWG1UeKvrU"
      },
      "execution_count": null,
      "outputs": []
    },
    {
      "cell_type": "markdown",
      "source": [
        "## word2vec-google-news-300"
      ],
      "metadata": {
        "id": "dLRKVIlPSJEc"
      }
    },
    {
      "cell_type": "code",
      "source": [
        "model = api.load(\"word2vec-google-news-300\")"
      ],
      "metadata": {
        "id": "jdrko0H1SPac"
      },
      "execution_count": null,
      "outputs": []
    },
    {
      "cell_type": "code",
      "source": [
        "MSE, MAE, accuracy, accuracy_weak, ds_size = evaluate_xgboost(model, 5)\n",
        "\n",
        "print(accuracy, accuracy_weak, MSE, MAE, ds_size)"
      ],
      "metadata": {
        "colab": {
          "base_uri": "https://localhost:8080/"
        },
        "outputId": "15edaf75-2699-4faf-a773-0088df383350",
        "id": "iwDbDZN3SfDM"
      },
      "execution_count": null,
      "outputs": [
        {
          "output_type": "stream",
          "name": "stdout",
          "text": [
            "[00:39:46] WARNING: /workspace/src/objective/regression_obj.cu:152: reg:linear is now deprecated in favor of reg:squarederror.\n",
            "[00:43:07] WARNING: /workspace/src/objective/regression_obj.cu:152: reg:linear is now deprecated in favor of reg:squarederror.\n",
            "[00:46:26] WARNING: /workspace/src/objective/regression_obj.cu:152: reg:linear is now deprecated in favor of reg:squarederror.\n",
            "[00:49:51] WARNING: /workspace/src/objective/regression_obj.cu:152: reg:linear is now deprecated in favor of reg:squarederror.\n",
            "[00:53:11] WARNING: /workspace/src/objective/regression_obj.cu:152: reg:linear is now deprecated in favor of reg:squarederror.\n",
            "0.36371130243634364 0.6187030591683458 5.4196057642768505 1.2529543278232165 54586\n"
          ]
        }
      ]
    },
    {
      "cell_type": "markdown",
      "source": [
        "## fasttext-wiki-news-subwords-300"
      ],
      "metadata": {
        "id": "f2qNGhPPfDKN"
      }
    },
    {
      "cell_type": "code",
      "source": [
        "model = api.load(\"fasttext-wiki-news-subwords-300\")"
      ],
      "metadata": {
        "colab": {
          "base_uri": "https://localhost:8080/"
        },
        "id": "cJSxEyFZfMYZ",
        "outputId": "74f4d307-9b26-401d-8935-dee26002fa3c"
      },
      "execution_count": null,
      "outputs": [
        {
          "output_type": "stream",
          "name": "stdout",
          "text": [
            "[==================================================] 100.0% 958.5/958.4MB downloaded\n"
          ]
        }
      ]
    },
    {
      "cell_type": "code",
      "source": [
        "MSE, MAE, accuracy, accuracy_weak, ds_size = evaluate_xgboost(model, 5)\n",
        "\n",
        "print(accuracy, accuracy_weak, MSE, MAE, ds_size)"
      ],
      "metadata": {
        "colab": {
          "base_uri": "https://localhost:8080/"
        },
        "outputId": "b4928133-79db-42f7-8b1d-24f7996c9779",
        "id": "KKoW5ZXkfQVw"
      },
      "execution_count": null,
      "outputs": [
        {
          "output_type": "stream",
          "name": "stdout",
          "text": [
            "[01:10:37] WARNING: /workspace/src/objective/regression_obj.cu:152: reg:linear is now deprecated in favor of reg:squarederror.\n",
            "[01:15:18] WARNING: /workspace/src/objective/regression_obj.cu:152: reg:linear is now deprecated in favor of reg:squarederror.\n",
            "[01:19:58] WARNING: /workspace/src/objective/regression_obj.cu:152: reg:linear is now deprecated in favor of reg:squarederror.\n",
            "[01:24:34] WARNING: /workspace/src/objective/regression_obj.cu:152: reg:linear is now deprecated in favor of reg:squarederror.\n",
            "[01:29:17] WARNING: /workspace/src/objective/regression_obj.cu:152: reg:linear is now deprecated in favor of reg:squarederror.\n",
            "0.460848610035287 0.7088217574662192 4.192171291106441 1.0370253287721947 58091\n"
          ]
        }
      ]
    },
    {
      "cell_type": "markdown",
      "source": [
        "## glove-wiki-gigaword-50"
      ],
      "metadata": {
        "id": "m06KGE3envpp"
      }
    },
    {
      "cell_type": "code",
      "source": [
        "model = api.load(\"glove-wiki-gigaword-50\")"
      ],
      "metadata": {
        "colab": {
          "base_uri": "https://localhost:8080/"
        },
        "id": "ogkwAyM1n08z",
        "outputId": "1874f063-68f4-44a5-a911-285b76259b24"
      },
      "execution_count": null,
      "outputs": [
        {
          "output_type": "stream",
          "name": "stdout",
          "text": [
            "[=================================================-] 98.5% 65.0/66.0MB downloaded\n"
          ]
        }
      ]
    },
    {
      "cell_type": "code",
      "source": [
        "MSE, MAE, accuracy, accuracy_weak, ds_size = evaluate_xgboost(model, 5)\n",
        "\n",
        "print(accuracy, accuracy_weak, MSE, MAE, ds_size)"
      ],
      "metadata": {
        "colab": {
          "base_uri": "https://localhost:8080/"
        },
        "id": "vuIhuTnln7GZ",
        "outputId": "afe182e4-4671-456f-dab1-adccb277b559"
      },
      "execution_count": null,
      "outputs": [
        {
          "output_type": "stream",
          "name": "stdout",
          "text": [
            "[01:39:40] WARNING: /workspace/src/objective/regression_obj.cu:152: reg:linear is now deprecated in favor of reg:squarederror.\n",
            "[01:40:29] WARNING: /workspace/src/objective/regression_obj.cu:152: reg:linear is now deprecated in favor of reg:squarederror.\n",
            "[01:41:17] WARNING: /workspace/src/objective/regression_obj.cu:152: reg:linear is now deprecated in favor of reg:squarederror.\n",
            "[01:42:04] WARNING: /workspace/src/objective/regression_obj.cu:152: reg:linear is now deprecated in favor of reg:squarederror.\n",
            "[01:42:51] WARNING: /workspace/src/objective/regression_obj.cu:152: reg:linear is now deprecated in favor of reg:squarederror.\n",
            "0.43597988144422495 0.7021196335548769 4.550781599449813 1.0963789970790845 55666\n"
          ]
        }
      ]
    },
    {
      "cell_type": "markdown",
      "source": [
        "## glove-wiki-gigaword-100"
      ],
      "metadata": {
        "id": "yyevxCxephlj"
      }
    },
    {
      "cell_type": "code",
      "source": [
        "model = api.load(\"glove-wiki-gigaword-100\")"
      ],
      "metadata": {
        "colab": {
          "base_uri": "https://localhost:8080/"
        },
        "id": "gqpwwuoVpnJu",
        "outputId": "ebdfab1c-552d-4bcf-d2c7-52df4e89f689"
      },
      "execution_count": null,
      "outputs": [
        {
          "output_type": "stream",
          "name": "stdout",
          "text": [
            "[==================================================] 100.0% 128.1/128.1MB downloaded\n"
          ]
        }
      ]
    },
    {
      "cell_type": "code",
      "source": [
        "MSE, MAE, accuracy, accuracy_weak, ds_size = evaluate_xgboost(model, 5)\n",
        "\n",
        "print(accuracy, accuracy_weak, MSE, MAE, ds_size)"
      ],
      "metadata": {
        "colab": {
          "base_uri": "https://localhost:8080/"
        },
        "id": "uQ4xwLUapolR",
        "outputId": "6681ac75-f19a-43e5-b62a-de1098842460"
      },
      "execution_count": null,
      "outputs": [
        {
          "output_type": "stream",
          "name": "stdout",
          "text": [
            "[01:46:41] WARNING: /workspace/src/objective/regression_obj.cu:152: reg:linear is now deprecated in favor of reg:squarederror.\n",
            "[01:48:15] WARNING: /workspace/src/objective/regression_obj.cu:152: reg:linear is now deprecated in favor of reg:squarederror.\n",
            "[01:49:47] WARNING: /workspace/src/objective/regression_obj.cu:152: reg:linear is now deprecated in favor of reg:squarederror.\n",
            "[01:51:18] WARNING: /workspace/src/objective/regression_obj.cu:152: reg:linear is now deprecated in favor of reg:squarederror.\n",
            "[01:52:49] WARNING: /workspace/src/objective/regression_obj.cu:152: reg:linear is now deprecated in favor of reg:squarederror.\n",
            "0.4463624932638764 0.7005748158792886 4.329783062953647 1.0762653479600524 55666\n"
          ]
        }
      ]
    },
    {
      "cell_type": "markdown",
      "source": [
        "## glove-wiki-gigaword-200"
      ],
      "metadata": {
        "id": "xEXkRdEOr0X7"
      }
    },
    {
      "cell_type": "code",
      "source": [
        "model = api.load(\"glove-wiki-gigaword-200\")"
      ],
      "metadata": {
        "colab": {
          "base_uri": "https://localhost:8080/"
        },
        "id": "nbj9PeeZsFMi",
        "outputId": "e97a1802-75da-4898-d14c-2cae52d8550c"
      },
      "execution_count": null,
      "outputs": [
        {
          "output_type": "stream",
          "name": "stdout",
          "text": [
            "[=================================================-] 98.8% 249.1/252.1MB downloaded"
          ]
        }
      ]
    },
    {
      "cell_type": "code",
      "source": [
        "MSE, MAE, accuracy, accuracy_weak, ds_size = evaluate_xgboost(model, 5)\n",
        "\n",
        "print(accuracy, accuracy_weak, MSE, MAE, ds_size)"
      ],
      "metadata": {
        "colab": {
          "base_uri": "https://localhost:8080/"
        },
        "id": "mlSYB_cFsHI6",
        "outputId": "0a98cce5-abee-4ccc-b081-f9148f188ea0"
      },
      "execution_count": null,
      "outputs": [
        {
          "output_type": "stream",
          "name": "stdout",
          "text": [
            "[01:58:24] WARNING: /workspace/src/objective/regression_obj.cu:152: reg:linear is now deprecated in favor of reg:squarederror.\n",
            "[02:01:14] WARNING: /workspace/src/objective/regression_obj.cu:152: reg:linear is now deprecated in favor of reg:squarederror.\n",
            "[02:04:08] WARNING: /workspace/src/objective/regression_obj.cu:152: reg:linear is now deprecated in favor of reg:squarederror.\n",
            "[02:07:00] WARNING: /workspace/src/objective/regression_obj.cu:152: reg:linear is now deprecated in favor of reg:squarederror.\n",
            "[02:09:51] WARNING: /workspace/src/objective/regression_obj.cu:152: reg:linear is now deprecated in favor of reg:squarederror.\n",
            "0.4287946829531165 0.6911981318483923 4.7021594129833275 1.1178482948106303 55666\n"
          ]
        }
      ]
    },
    {
      "cell_type": "markdown",
      "source": [
        "## glove-wiki-gigaword-300"
      ],
      "metadata": {
        "id": "J2V24wq8xSXv"
      }
    },
    {
      "cell_type": "code",
      "source": [
        "model = api.load(\"glove-wiki-gigaword-300\")"
      ],
      "metadata": {
        "colab": {
          "base_uri": "https://localhost:8080/"
        },
        "id": "Tqru6j2NxWI2",
        "outputId": "1ff62ba0-4bc6-4e03-9b3f-e9c7a46a4c33"
      },
      "execution_count": null,
      "outputs": [
        {
          "output_type": "stream",
          "name": "stdout",
          "text": [
            "[=================================================-] 99.5% 374.2/376.1MB downloaded\n"
          ]
        }
      ]
    },
    {
      "cell_type": "code",
      "source": [
        "MSE, MAE, accuracy, accuracy_weak, ds_size = evaluate_xgboost(model, 5)\n",
        "\n",
        "print(accuracy, accuracy_weak, MSE, MAE, ds_size)"
      ],
      "metadata": {
        "colab": {
          "base_uri": "https://localhost:8080/"
        },
        "id": "MoH9gdzLxYMd",
        "outputId": "f3e8692c-ae2c-43f2-8c43-5958488207d6"
      },
      "execution_count": null,
      "outputs": [
        {
          "output_type": "stream",
          "name": "stdout",
          "text": [
            "[02:22:29] WARNING: /workspace/src/objective/regression_obj.cu:152: reg:linear is now deprecated in favor of reg:squarederror.\n",
            "[02:26:45] WARNING: /workspace/src/objective/regression_obj.cu:152: reg:linear is now deprecated in favor of reg:squarederror.\n",
            "[02:31:01] WARNING: /workspace/src/objective/regression_obj.cu:152: reg:linear is now deprecated in favor of reg:squarederror.\n",
            "[02:35:13] WARNING: /workspace/src/objective/regression_obj.cu:152: reg:linear is now deprecated in favor of reg:squarederror.\n",
            "[02:39:26] WARNING: /workspace/src/objective/regression_obj.cu:152: reg:linear is now deprecated in favor of reg:squarederror.\n",
            "0.4211783725525418 0.6897431291539429 4.846338872559338 1.129206423213843 55666\n"
          ]
        }
      ]
    },
    {
      "cell_type": "markdown",
      "source": [
        "## glove-twitter-25"
      ],
      "metadata": {
        "id": "6DUOED8K3hNb"
      }
    },
    {
      "cell_type": "code",
      "source": [
        "model = api.load(\"glove-twitter-25\")"
      ],
      "metadata": {
        "colab": {
          "base_uri": "https://localhost:8080/"
        },
        "id": "u17WDa1P3nEF",
        "outputId": "190c0080-5aa2-4dfe-cb02-c897972ea37d"
      },
      "execution_count": null,
      "outputs": [
        {
          "output_type": "stream",
          "name": "stdout",
          "text": [
            "[==================================================] 100.0% 104.8/104.8MB downloaded\n"
          ]
        }
      ]
    },
    {
      "cell_type": "code",
      "source": [
        "MSE, MAE, accuracy, accuracy_weak, ds_size = evaluate_xgboost(model, 5)\n",
        "\n",
        "print(accuracy, accuracy_weak, MSE, MAE, ds_size)"
      ],
      "metadata": {
        "colab": {
          "base_uri": "https://localhost:8080/"
        },
        "id": "__sLriy83rRp",
        "outputId": "fcf7245d-b8ff-492a-cfc3-1254167bb8eb"
      },
      "execution_count": null,
      "outputs": [
        {
          "output_type": "stream",
          "name": "stdout",
          "text": [
            "[02:48:22] WARNING: /workspace/src/objective/regression_obj.cu:152: reg:linear is now deprecated in favor of reg:squarederror.\n",
            "[02:48:39] WARNING: /workspace/src/objective/regression_obj.cu:152: reg:linear is now deprecated in favor of reg:squarederror.\n",
            "[02:48:57] WARNING: /workspace/src/objective/regression_obj.cu:152: reg:linear is now deprecated in favor of reg:squarederror.\n",
            "[02:49:15] WARNING: /workspace/src/objective/regression_obj.cu:152: reg:linear is now deprecated in favor of reg:squarederror.\n",
            "[02:49:34] WARNING: /workspace/src/objective/regression_obj.cu:152: reg:linear is now deprecated in favor of reg:squarederror.\n",
            "0.3179380909208652 0.5861675948711307 6.356926828323084 1.402394858141233 38601\n"
          ]
        }
      ]
    },
    {
      "cell_type": "markdown",
      "source": [
        "## glove-twitter-50"
      ],
      "metadata": {
        "id": "iHddqx71AmsT"
      }
    },
    {
      "cell_type": "code",
      "source": [
        "model = api.load(\"glove-twitter-50\")"
      ],
      "metadata": {
        "colab": {
          "base_uri": "https://localhost:8080/"
        },
        "id": "kUCnZnlaAq8C",
        "outputId": "2111d47e-4232-499b-b0c1-3145031f9b00"
      },
      "execution_count": null,
      "outputs": [
        {
          "output_type": "stream",
          "name": "stdout",
          "text": [
            "[=================================================-] 99.7% 198.9/199.5MB downloaded\n"
          ]
        }
      ]
    },
    {
      "cell_type": "code",
      "source": [
        "MSE, MAE, accuracy, accuracy_weak, ds_size = evaluate_xgboost(model, 5)\n",
        "\n",
        "print(accuracy, accuracy_weak, MSE, MAE, ds_size)"
      ],
      "metadata": {
        "colab": {
          "base_uri": "https://localhost:8080/"
        },
        "id": "jlBdOBCoAv1D",
        "outputId": "14304299-cb36-4ac3-ad79-c44e16fd6a21"
      },
      "execution_count": null,
      "outputs": [
        {
          "output_type": "stream",
          "name": "stdout",
          "text": [
            "[03:28:43] WARNING: /workspace/src/objective/regression_obj.cu:152: reg:linear is now deprecated in favor of reg:squarederror.\n",
            "[03:29:18] WARNING: /workspace/src/objective/regression_obj.cu:152: reg:linear is now deprecated in favor of reg:squarederror.\n",
            "[03:29:53] WARNING: /workspace/src/objective/regression_obj.cu:152: reg:linear is now deprecated in favor of reg:squarederror.\n",
            "[03:30:31] WARNING: /workspace/src/objective/regression_obj.cu:152: reg:linear is now deprecated in favor of reg:squarederror.\n",
            "[03:31:05] WARNING: /workspace/src/objective/regression_obj.cu:152: reg:linear is now deprecated in favor of reg:squarederror.\n",
            "0.3104261106074343 0.5803393342831239 6.841532581014414 1.4174310030753154 38601\n"
          ]
        }
      ]
    },
    {
      "cell_type": "markdown",
      "source": [
        "## glove-twitter-100"
      ],
      "metadata": {
        "id": "1WzecouZ-Xv9"
      }
    },
    {
      "cell_type": "code",
      "source": [
        "model = api.load(\"glove-twitter-100\")"
      ],
      "metadata": {
        "colab": {
          "base_uri": "https://localhost:8080/"
        },
        "id": "1G7TN7y2-bGv",
        "outputId": "3bffb7ce-2d02-4b17-901a-c2008f2cd954"
      },
      "execution_count": null,
      "outputs": [
        {
          "output_type": "stream",
          "name": "stdout",
          "text": [
            "[=================================================-] 99.9% 386.6/387.1MB downloaded\n"
          ]
        }
      ]
    },
    {
      "cell_type": "code",
      "source": [
        "MSE, MAE, accuracy, accuracy_weak, ds_size = evaluate_xgboost(model, 5)\n",
        "\n",
        "print(accuracy, accuracy_weak, MSE, MAE, ds_size)"
      ],
      "metadata": {
        "colab": {
          "base_uri": "https://localhost:8080/"
        },
        "id": "OsEMXYDC-dzx",
        "outputId": "e05c3fb6-47e6-4177-a804-a54044833489"
      },
      "execution_count": null,
      "outputs": [
        {
          "output_type": "stream",
          "name": "stdout",
          "text": [
            "[03:19:45] WARNING: /workspace/src/objective/regression_obj.cu:152: reg:linear is now deprecated in favor of reg:squarederror.\n",
            "[03:20:51] WARNING: /workspace/src/objective/regression_obj.cu:152: reg:linear is now deprecated in favor of reg:squarederror.\n",
            "[03:21:55] WARNING: /workspace/src/objective/regression_obj.cu:152: reg:linear is now deprecated in favor of reg:squarederror.\n",
            "[03:22:58] WARNING: /workspace/src/objective/regression_obj.cu:152: reg:linear is now deprecated in favor of reg:squarederror.\n",
            "[03:24:02] WARNING: /workspace/src/objective/regression_obj.cu:152: reg:linear is now deprecated in favor of reg:squarederror.\n",
            "0.30837974355653414 0.5710659241030955 6.617557834753702 1.4124417476604028 38601\n"
          ]
        }
      ]
    },
    {
      "cell_type": "markdown",
      "source": [
        "## glove-twitter-200"
      ],
      "metadata": {
        "id": "-rg_Z18GCHFe"
      }
    },
    {
      "cell_type": "code",
      "source": [
        "model = api.load(\"glove-twitter-200\")"
      ],
      "metadata": {
        "id": "i8uNtpYgCKc_"
      },
      "execution_count": null,
      "outputs": []
    },
    {
      "cell_type": "code",
      "source": [
        "MSE, MAE, accuracy, accuracy_weak, ds_size = evaluate_xgboost(model, 5)\n",
        "\n",
        "print(accuracy, accuracy_weak, MSE, MAE, ds_size)"
      ],
      "metadata": {
        "outputId": "2fa3af9d-c4a2-4c01-f697-5bae1744707e",
        "colab": {
          "base_uri": "https://localhost:8080/"
        },
        "id": "2_uXoqNqCT2a"
      },
      "execution_count": null,
      "outputs": [
        {
          "output_type": "stream",
          "name": "stdout",
          "text": [
            "[03:45:04] WARNING: /workspace/src/objective/regression_obj.cu:152: reg:linear is now deprecated in favor of reg:squarederror.\n",
            "[03:47:05] WARNING: /workspace/src/objective/regression_obj.cu:152: reg:linear is now deprecated in favor of reg:squarederror.\n",
            "[03:49:07] WARNING: /workspace/src/objective/regression_obj.cu:152: reg:linear is now deprecated in favor of reg:squarederror.\n",
            "[03:51:07] WARNING: /workspace/src/objective/regression_obj.cu:152: reg:linear is now deprecated in favor of reg:squarederror.\n",
            "[03:53:09] WARNING: /workspace/src/objective/regression_obj.cu:152: reg:linear is now deprecated in favor of reg:squarederror.\n",
            "0.304131589172387 0.5727755472089109 6.861530595583174 1.4257143763043907 38601\n"
          ]
        }
      ]
    }
  ],
  "metadata": {
    "colab": {
      "provenance": [],
      "collapsed_sections": [
        "YhlxWBWN42qw"
      ],
      "toc_visible": true
    },
    "kernelspec": {
      "display_name": "Python 3",
      "name": "python3"
    },
    "language_info": {
      "name": "python"
    }
  },
  "nbformat": 4,
  "nbformat_minor": 0
}