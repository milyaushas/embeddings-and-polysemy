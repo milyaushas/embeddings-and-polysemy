{
  "cells": [
    {
      "cell_type": "code",
      "execution_count": null,
      "metadata": {
        "colab": {
          "base_uri": "https://localhost:8080/"
        },
        "id": "7F-kO101mC-l",
        "outputId": "174dcb0a-3ad2-4116-9607-cd7c26f2fbef"
      },
      "outputs": [
        {
          "name": "stderr",
          "output_type": "stream",
          "text": [
            "[nltk_data] Downloading package wordnet to /root/nltk_data...\n",
            "[nltk_data] Downloading package omw-1.4 to /root/nltk_data...\n"
          ]
        },
        {
          "data": {
            "text/plain": [
              "True"
            ]
          },
          "execution_count": 2,
          "metadata": {},
          "output_type": "execute_result"
        }
      ],
      "source": [
        "import nltk\n",
        "nltk.download('wordnet')\n",
        "nltk.download('omw-1.4')"
      ]
    },
    {
      "cell_type": "code",
      "execution_count": null,
      "metadata": {
        "id": "RadYjC7ninUW"
      },
      "outputs": [],
      "source": [
        "import random\n",
        "import numpy as np\n",
        "\n",
        "def sample(defs_count, embs):\n",
        "    words = []\n",
        "    for word in embs.keys():\n",
        "        if word in defs_count:\n",
        "            words.append(word)\n",
        "            \n",
        "    random.shuffle(words)\n",
        "    \n",
        "    X = np.array([embs[w] for w in words])\n",
        "    y = np.array([defs_count[w] for w in words])\n",
        "    \n",
        "    return X, y"
      ]
    },
    {
      "cell_type": "code",
      "execution_count": null,
      "metadata": {
        "id": "fORZzCFjkGvO"
      },
      "outputs": [],
      "source": [
        "def accuracy_1(y_true, y_predicted):\n",
        "  count = 0\n",
        "  for i in range(len(y_true)):\n",
        "    if y_true[i] == round(y_predicted[i]):\n",
        "      count += 1\n",
        "  return count / len(y_true)"
      ]
    },
    {
      "cell_type": "code",
      "execution_count": null,
      "metadata": {
        "id": "U-xjTGibkHaK"
      },
      "outputs": [],
      "source": [
        "def accuracy_2(y_true, y_predicted, eps):\n",
        "  count = 0\n",
        "  for i in range(len(y_true)):\n",
        "    if abs(y_true[i] - y_predicted[i]) <= eps:\n",
        "      count += 1\n",
        "  return count / len(y_true)"
      ]
    },
    {
      "cell_type": "code",
      "execution_count": null,
      "metadata": {
        "id": "noZhI8H0iLl5"
      },
      "outputs": [],
      "source": [
        "from os import XATTR_REPLACE\n",
        "import pandas as pd\n",
        "from nltk.corpus import wordnet as wn\n",
        "from sklearn.linear_model import LinearRegression\n",
        "from sklearn.model_selection import train_test_split\n",
        "from sklearn.metrics import mean_absolute_error, mean_squared_error\n",
        "import numpy as np\n",
        "\n",
        "def evaluate(ds_filename, n):\n",
        "    df = pd.read_table(ds_filename, header=None)\n",
        "    \n",
        "    embeddings = dict() #key - word, value - embedding\n",
        "    for data in df.values:\n",
        "        embeddings[data[0]] = data[1:]\n",
        "    \n",
        "    definitions_num = dict() #key - word, value - number of synsets\n",
        "    for lemma in wn.all_lemma_names():\n",
        "      definitions_num[lemma] = len(wn.synsets(lemma))\n",
        "    \n",
        "    X, y = sample(definitions_num, embeddings)\n",
        "    \n",
        "    MSE = np.zeros(n)\n",
        "    MAE = np.zeros(n)\n",
        "    acc_1 = np.zeros(n)\n",
        "    acc_2 = np.zeros(n) \n",
        "\n",
        "    for i in range(n):\n",
        "      X_train, X_test, y_train, y_test = train_test_split(X, y, test_size=0.2)\n",
        "      lin_reg = LinearRegression().fit(X_train, y_train)\n",
        "    \n",
        "      y_pred = lin_reg.predict(X_test)\n",
        "      y_true = y_test\n",
        "\n",
        "      MSE[i] = mean_squared_error(y_true, y_pred)\n",
        "      MAE[i] = mean_absolute_error(y_true, y_pred)\n",
        "      acc_1[i] = accuracy_1(y_true, y_pred)\n",
        "      acc_2[i] = accuracy_2(y_true, y_pred, 1)\n",
        "    \n",
        "    return acc_1.mean(), acc_2.mean(), MSE.mean(), MAE.mean(), len(X)\n"
      ]
    },
    {
      "cell_type": "markdown",
      "metadata": {
        "id": "U-H2h3lJk39y"
      },
      "source": [
        "dim = 10"
      ]
    },
    {
      "cell_type": "code",
      "execution_count": null,
      "metadata": {
        "colab": {
          "base_uri": "https://localhost:8080/",
          "height": 205
        },
        "id": "wQAgfbOGk0_t",
        "outputId": "3cee7d81-d34b-4b6d-8df2-bdb0faf67d5c"
      },
      "outputs": [
        {
          "ename": "NameError",
          "evalue": "ignored",
          "output_type": "error",
          "traceback": [
            "\u001b[0;31m---------------------------------------------------------------------------\u001b[0m",
            "\u001b[0;31mNameError\u001b[0m                                 Traceback (most recent call last)",
            "\u001b[0;32m<ipython-input-1-f829fa403a0e>\u001b[0m in \u001b[0;36m<module>\u001b[0;34m\u001b[0m\n\u001b[0;32m----> 1\u001b[0;31m \u001b[0macc_1\u001b[0m\u001b[0;34m,\u001b[0m \u001b[0macc_2\u001b[0m\u001b[0;34m,\u001b[0m \u001b[0mMSE\u001b[0m\u001b[0;34m,\u001b[0m \u001b[0mMAE\u001b[0m\u001b[0;34m,\u001b[0m \u001b[0mds_size\u001b[0m \u001b[0;34m=\u001b[0m \u001b[0mevaluate\u001b[0m\u001b[0;34m(\u001b[0m\u001b[0;34m\"/content/wordnet_embeddings_1.tsv\"\u001b[0m\u001b[0;34m,\u001b[0m \u001b[0;36m100\u001b[0m\u001b[0;34m)\u001b[0m\u001b[0;34m\u001b[0m\u001b[0;34m\u001b[0m\u001b[0m\n\u001b[0m\u001b[1;32m      2\u001b[0m \u001b[0;34m\u001b[0m\u001b[0m\n\u001b[1;32m      3\u001b[0m \u001b[0mprint\u001b[0m\u001b[0;34m(\u001b[0m\u001b[0macc_1\u001b[0m\u001b[0;34m,\u001b[0m \u001b[0macc_2\u001b[0m\u001b[0;34m,\u001b[0m \u001b[0mMSE\u001b[0m\u001b[0;34m,\u001b[0m \u001b[0mMAE\u001b[0m\u001b[0;34m,\u001b[0m \u001b[0mds_size\u001b[0m\u001b[0;34m)\u001b[0m\u001b[0;34m\u001b[0m\u001b[0;34m\u001b[0m\u001b[0m\n",
            "\u001b[0;31mNameError\u001b[0m: name 'evaluate' is not defined"
          ]
        }
      ],
      "source": [
        "acc_1, acc_2, MSE, MAE, ds_size = evaluate(\"/content/wordnet_embeddings_1.tsv\", 100)\n",
        "\n",
        "print(acc_1, acc_2, MSE, MAE, ds_size)"
      ]
    },
    {
      "cell_type": "markdown",
      "metadata": {
        "id": "_DQGsxPtnN8j"
      },
      "source": [
        "dim = 2"
      ]
    },
    {
      "cell_type": "code",
      "execution_count": null,
      "metadata": {
        "colab": {
          "base_uri": "https://localhost:8080/"
        },
        "id": "pKAZWzBhnPl4",
        "outputId": "af60b8ab-20a8-410c-f50d-94ab70c8a868"
      },
      "outputs": [
        {
          "name": "stdout",
          "output_type": "stream",
          "text": [
            "0.3200669892072943 0.8775199106810567 5.116235428974448 1.029472259260257 67172\n"
          ]
        }
      ],
      "source": [
        "acc_1, acc_2, MSE, MAE, ds_size = evaluate(\"/content/wordnet_embeddings_2.tsv\", 100)\n",
        "\n",
        "print(acc_1, acc_2, MSE, MAE, ds_size)"
      ]
    },
    {
      "cell_type": "markdown",
      "metadata": {
        "id": "CDxgcH2anmQz"
      },
      "source": [
        "dim = 100"
      ]
    },
    {
      "cell_type": "code",
      "execution_count": null,
      "metadata": {
        "colab": {
          "base_uri": "https://localhost:8080/"
        },
        "id": "CmeWQ-A8nloG",
        "outputId": "71a7f4cf-7ba1-4df9-bc1c-5f2a3c236c1c"
      },
      "outputs": [
        {
          "name": "stdout",
          "output_type": "stream",
          "text": [
            "0.40264532936360253 0.7568492742835877 4.982347716069422 0.9835145702498126 67172\n"
          ]
        }
      ],
      "source": [
        "acc_1, acc_2, MSE, MAE, ds_size = evaluate(\"/content/wordnet_embeddings_3.tsv\", 100)\n",
        "\n",
        "print(acc_1, acc_2, MSE, MAE, ds_size)"
      ]
    },
    {
      "cell_type": "markdown",
      "metadata": {
        "id": "KwNMp8ZC1ywV"
      },
      "source": [
        "dim = 2, v2.0"
      ]
    },
    {
      "cell_type": "code",
      "execution_count": null,
      "metadata": {
        "colab": {
          "base_uri": "https://localhost:8080/"
        },
        "id": "_vZhxnJt11qU",
        "outputId": "643ec715-3cc8-41fe-ce25-4d407d8d9aae"
      },
      "outputs": [
        {
          "name": "stdout",
          "output_type": "stream",
          "text": [
            "0.2201741719389654 0.879510978786751 5.241157914344801 1.0398291439288463 67172\n"
          ]
        }
      ],
      "source": [
        "acc_1, acc_2, MSE, MAE, ds_size = evaluate(\"/content/wordnet_embeddings_7.tsv\", 100)\n",
        "\n",
        "print(acc_1, acc_2, MSE, MAE, ds_size)"
      ]
    },
    {
      "cell_type": "markdown",
      "metadata": {
        "id": "N8UokzMQ6Gev"
      },
      "source": [
        "dim = 10, v2.0\n"
      ]
    },
    {
      "cell_type": "code",
      "execution_count": null,
      "metadata": {
        "colab": {
          "base_uri": "https://localhost:8080/"
        },
        "id": "P0ahSxF16Jbh",
        "outputId": "32821402-ffd5-48a3-f306-0f3488f4bd2a"
      },
      "outputs": [
        {
          "name": "stdout",
          "output_type": "stream",
          "text": [
            "0.3523572757722367 0.7726185336806849 5.002628822725369 1.0138703071560842 67172\n"
          ]
        }
      ],
      "source": [
        "acc_1, acc_2, MSE, MAE, ds_size = evaluate(\"/content/wordnet_embeddings_6.tsv\", 100)\n",
        "\n",
        "print(acc_1, acc_2, MSE, MAE, ds_size)"
      ]
    },
    {
      "cell_type": "markdown",
      "metadata": {
        "id": "4LfWeB6x_gSD"
      },
      "source": [
        "dim = 5"
      ]
    },
    {
      "cell_type": "code",
      "execution_count": null,
      "metadata": {
        "colab": {
          "base_uri": "https://localhost:8080/"
        },
        "id": "QNtijts79kf2",
        "outputId": "4ea393ec-9da1-43f6-adb7-81c0fb75da5b"
      },
      "outputs": [
        {
          "name": "stdout",
          "output_type": "stream",
          "text": [
            "0.32740230740602905 0.7687718645329363 5.11674478994841 1.0182813150849672 67172\n"
          ]
        }
      ],
      "source": [
        "acc_1, acc_2, MSE, MAE, ds_size = evaluate(\"/content/wordnet_embeddings_8.tsv\", 100)\n",
        "\n",
        "print(acc_1, acc_2, MSE, MAE, ds_size)"
      ]
    },
    {
      "cell_type": "markdown",
      "metadata": {
        "id": "Up9-spi0DIhI"
      },
      "source": [
        "dim = 2, v3.0"
      ]
    },
    {
      "cell_type": "code",
      "execution_count": null,
      "metadata": {
        "colab": {
          "base_uri": "https://localhost:8080/"
        },
        "id": "DQlFJ0Lc_frw",
        "outputId": "412f626c-cbfc-4036-ed6a-08fecdd3a7d7"
      },
      "outputs": [
        {
          "name": "stdout",
          "output_type": "stream",
          "text": [
            "0.28747376256047635 0.8798094529214737 5.118903820448165 1.0273001811967604 67172\n"
          ]
        }
      ],
      "source": [
        "acc_1, acc_2, MSE, MAE, ds_size = evaluate(\"/content/wordnet_embeddings_9.tsv\", 100)\n",
        "\n",
        "print(acc_1, acc_2, MSE, MAE, ds_size)"
      ]
    },
    {
      "cell_type": "markdown",
      "metadata": {
        "id": "UmuWdAOWRtm_"
      },
      "source": [
        "# XGBoost"
      ]
    },
    {
      "cell_type": "code",
      "execution_count": null,
      "metadata": {
        "id": "zH-F-83SR01P"
      },
      "outputs": [],
      "source": [
        "from os import XATTR_REPLACE\n",
        "import pandas as pd\n",
        "from nltk.corpus import wordnet as wn\n",
        "from sklearn.model_selection import train_test_split\n",
        "from sklearn.metrics import mean_absolute_error, mean_squared_error\n",
        "import numpy as np\n",
        "from xgboost import XGBRegressor\n",
        "\n",
        "def evaluate_xgboost(ds_filename, n):\n",
        "    df = pd.read_table(ds_filename, header=None)\n",
        "    \n",
        "    embeddings = dict() #key - word, value - embedding\n",
        "    for data in df.values:\n",
        "        embeddings[data[0]] = data[1:]\n",
        "    \n",
        "    definitions_num = dict() #key - word, value - number of synsets\n",
        "    for lemma in wn.all_lemma_names():\n",
        "      definitions_num[lemma] = len(wn.synsets(lemma))\n",
        "    \n",
        "    X, y = sample(definitions_num, embeddings)\n",
        "    \n",
        "    MSE = np.zeros(n)\n",
        "    MAE = np.zeros(n)\n",
        "    acc_1 = np.zeros(n)\n",
        "    acc_2 = np.zeros(n) \n",
        "\n",
        "    for i in range(n):\n",
        "      X_train, X_test, y_train, y_test = train_test_split(X, y, test_size=0.2)\n",
        "      xgboost = XGBRegressor(n_estimators=100, max_depth=10, eta=0.01)\n",
        "      xgboost.fit(X_train, y_train)\n",
        "    \n",
        "      y_pred = xgboost.predict(X_test)\n",
        "      y_true = y_test\n",
        "\n",
        "      MSE[i] = mean_squared_error(y_true, y_pred)\n",
        "      MAE[i] = mean_absolute_error(y_true, y_pred)\n",
        "      acc_1[i] = accuracy_1(y_true, y_pred)\n",
        "      acc_2[i] = accuracy_2(y_true, y_pred, 1)\n",
        "    \n",
        "    return acc_1.mean(), acc_2.mean(), MSE.mean(), MAE.mean(), len(X)"
      ]
    },
    {
      "cell_type": "markdown",
      "metadata": {
        "id": "DdNb6xIJSkWm"
      },
      "source": [
        "## dim = 2"
      ]
    },
    {
      "cell_type": "code",
      "execution_count": null,
      "metadata": {
        "colab": {
          "base_uri": "https://localhost:8080/"
        },
        "id": "_X1hV_GcSfMS",
        "outputId": "0711033c-5654-49af-f454-c5c26c4a49e9"
      },
      "outputs": [
        {
          "name": "stdout",
          "output_type": "stream",
          "text": [
            "[04:46:51] WARNING: /workspace/src/objective/regression_obj.cu:152: reg:linear is now deprecated in favor of reg:squarederror.\n",
            "[04:46:56] WARNING: /workspace/src/objective/regression_obj.cu:152: reg:linear is now deprecated in favor of reg:squarederror.\n",
            "[04:47:01] WARNING: /workspace/src/objective/regression_obj.cu:152: reg:linear is now deprecated in favor of reg:squarederror.\n",
            "[04:47:07] WARNING: /workspace/src/objective/regression_obj.cu:152: reg:linear is now deprecated in favor of reg:squarederror.\n",
            "[04:47:12] WARNING: /workspace/src/objective/regression_obj.cu:152: reg:linear is now deprecated in favor of reg:squarederror.\n",
            "[04:47:17] WARNING: /workspace/src/objective/regression_obj.cu:152: reg:linear is now deprecated in favor of reg:squarederror.\n",
            "[04:47:23] WARNING: /workspace/src/objective/regression_obj.cu:152: reg:linear is now deprecated in favor of reg:squarederror.\n",
            "[04:47:28] WARNING: /workspace/src/objective/regression_obj.cu:152: reg:linear is now deprecated in favor of reg:squarederror.\n",
            "[04:47:33] WARNING: /workspace/src/objective/regression_obj.cu:152: reg:linear is now deprecated in favor of reg:squarederror.\n",
            "[04:47:38] WARNING: /workspace/src/objective/regression_obj.cu:152: reg:linear is now deprecated in favor of reg:squarederror.\n",
            "0.4951544473390398 0.8119761816151844 4.689895944022635 0.9433087556953097 67172\n"
          ]
        }
      ],
      "source": [
        "acc_1, acc_2, MSE, MAE, ds_size = evaluate_xgboost(\"/content/wordnet_embeddings_2.tsv\", 10)\n",
        "\n",
        "print(acc_1, acc_2, MSE, MAE, ds_size)"
      ]
    },
    {
      "cell_type": "markdown",
      "metadata": {
        "id": "HJnGtxeKS_5u"
      },
      "source": [
        "## dim = 5"
      ]
    },
    {
      "cell_type": "code",
      "execution_count": null,
      "metadata": {
        "colab": {
          "base_uri": "https://localhost:8080/"
        },
        "id": "HexevM4OS_aX",
        "outputId": "c93c5c7f-bea0-4465-dafa-60ed8d2f8dce"
      },
      "outputs": [
        {
          "name": "stdout",
          "output_type": "stream",
          "text": [
            "[04:52:50] WARNING: /workspace/src/objective/regression_obj.cu:152: reg:linear is now deprecated in favor of reg:squarederror.\n",
            "[04:52:59] WARNING: /workspace/src/objective/regression_obj.cu:152: reg:linear is now deprecated in favor of reg:squarederror.\n",
            "[04:53:08] WARNING: /workspace/src/objective/regression_obj.cu:152: reg:linear is now deprecated in favor of reg:squarederror.\n",
            "[04:53:18] WARNING: /workspace/src/objective/regression_obj.cu:152: reg:linear is now deprecated in favor of reg:squarederror.\n",
            "[04:53:27] WARNING: /workspace/src/objective/regression_obj.cu:152: reg:linear is now deprecated in favor of reg:squarederror.\n",
            "[04:53:37] WARNING: /workspace/src/objective/regression_obj.cu:152: reg:linear is now deprecated in favor of reg:squarederror.\n",
            "[04:53:47] WARNING: /workspace/src/objective/regression_obj.cu:152: reg:linear is now deprecated in favor of reg:squarederror.\n",
            "[04:53:57] WARNING: /workspace/src/objective/regression_obj.cu:152: reg:linear is now deprecated in favor of reg:squarederror.\n",
            "[04:54:06] WARNING: /workspace/src/objective/regression_obj.cu:152: reg:linear is now deprecated in favor of reg:squarederror.\n",
            "[04:54:16] WARNING: /workspace/src/objective/regression_obj.cu:152: reg:linear is now deprecated in favor of reg:squarederror.\n",
            "0.48258280610346116 0.7769184964644584 5.228412178825991 0.9827258347613155 67172\n"
          ]
        }
      ],
      "source": [
        "acc_1, acc_2, MSE, MAE, ds_size = evaluate_xgboost(\"/content/wordnet_embeddings_8.tsv\", 10)\n",
        "\n",
        "print(acc_1, acc_2, MSE, MAE, ds_size)"
      ]
    },
    {
      "cell_type": "markdown",
      "metadata": {
        "id": "-F5T6OHVTOa9"
      },
      "source": [
        "## dim = 10"
      ]
    },
    {
      "cell_type": "code",
      "execution_count": null,
      "metadata": {
        "colab": {
          "base_uri": "https://localhost:8080/"
        },
        "id": "aQK-XnBVVJ-C",
        "outputId": "c39a30e8-6b62-4a57-f2b5-db68d86eb344"
      },
      "outputs": [
        {
          "name": "stdout",
          "output_type": "stream",
          "text": [
            "[04:57:54] WARNING: /workspace/src/objective/regression_obj.cu:152: reg:linear is now deprecated in favor of reg:squarederror.\n",
            "[04:58:10] WARNING: /workspace/src/objective/regression_obj.cu:152: reg:linear is now deprecated in favor of reg:squarederror.\n",
            "[04:58:26] WARNING: /workspace/src/objective/regression_obj.cu:152: reg:linear is now deprecated in favor of reg:squarederror.\n",
            "[04:58:42] WARNING: /workspace/src/objective/regression_obj.cu:152: reg:linear is now deprecated in favor of reg:squarederror.\n",
            "[04:58:58] WARNING: /workspace/src/objective/regression_obj.cu:152: reg:linear is now deprecated in favor of reg:squarederror.\n",
            "[04:59:14] WARNING: /workspace/src/objective/regression_obj.cu:152: reg:linear is now deprecated in favor of reg:squarederror.\n",
            "[04:59:30] WARNING: /workspace/src/objective/regression_obj.cu:152: reg:linear is now deprecated in favor of reg:squarederror.\n",
            "[04:59:46] WARNING: /workspace/src/objective/regression_obj.cu:152: reg:linear is now deprecated in favor of reg:squarederror.\n",
            "[05:00:02] WARNING: /workspace/src/objective/regression_obj.cu:152: reg:linear is now deprecated in favor of reg:squarederror.\n",
            "[05:00:18] WARNING: /workspace/src/objective/regression_obj.cu:152: reg:linear is now deprecated in favor of reg:squarederror.\n",
            "0.4853368068477856 0.7868477856345366 5.261977486853622 0.9866031263067147 67172\n"
          ]
        }
      ],
      "source": [
        "acc_1, acc_2, MSE, MAE, ds_size = evaluate_xgboost(\"/content/wordnet_embeddings_6.tsv\", 10)\n",
        "\n",
        "print(acc_1, acc_2, MSE, MAE, ds_size)"
      ]
    },
    {
      "cell_type": "markdown",
      "metadata": {
        "id": "lA_XVG0-TavX"
      },
      "source": [
        "## dim = 100"
      ]
    },
    {
      "cell_type": "code",
      "execution_count": null,
      "metadata": {
        "colab": {
          "background_save": true,
          "base_uri": "https://localhost:8080/"
        },
        "id": "iTVRgTiCXnvt",
        "outputId": "7d1fa954-a3e2-4293-b8b8-e7f35c7826c5"
      },
      "outputs": [
        {
          "name": "stdout",
          "output_type": "stream",
          "text": [
            "[05:15:41] WARNING: /workspace/src/objective/regression_obj.cu:152: reg:linear is now deprecated in favor of reg:squarederror.\n",
            "[05:17:37] WARNING: /workspace/src/objective/regression_obj.cu:152: reg:linear is now deprecated in favor of reg:squarederror.\n",
            "[05:19:37] WARNING: /workspace/src/objective/regression_obj.cu:152: reg:linear is now deprecated in favor of reg:squarederror.\n",
            "[05:21:35] WARNING: /workspace/src/objective/regression_obj.cu:152: reg:linear is now deprecated in favor of reg:squarederror.\n",
            "[05:23:32] WARNING: /workspace/src/objective/regression_obj.cu:152: reg:linear is now deprecated in favor of reg:squarederror.\n",
            "[05:25:31] WARNING: /workspace/src/objective/regression_obj.cu:152: reg:linear is now deprecated in favor of reg:squarederror.\n",
            "[05:27:28] WARNING: /workspace/src/objective/regression_obj.cu:152: reg:linear is now deprecated in favor of reg:squarederror.\n",
            "[05:29:26] WARNING: /workspace/src/objective/regression_obj.cu:152: reg:linear is now deprecated in favor of reg:squarederror.\n",
            "[05:31:24] WARNING: /workspace/src/objective/regression_obj.cu:152: reg:linear is now deprecated in favor of reg:squarederror.\n",
            "[05:33:22] WARNING: /workspace/src/objective/regression_obj.cu:152: reg:linear is now deprecated in favor of reg:squarederror.\n",
            "[05:35:18] WARNING: /workspace/src/objective/regression_obj.cu:152: reg:linear is now deprecated in favor of reg:squarederror.\n",
            "[05:37:16] WARNING: /workspace/src/objective/regression_obj.cu:152: reg:linear is now deprecated in favor of reg:squarederror.\n",
            "[05:39:12] WARNING: /workspace/src/objective/regression_obj.cu:152: reg:linear is now deprecated in favor of reg:squarederror.\n",
            "[05:41:17] WARNING: /workspace/src/objective/regression_obj.cu:152: reg:linear is now deprecated in favor of reg:squarederror.\n",
            "[05:43:14] WARNING: /workspace/src/objective/regression_obj.cu:152: reg:linear is now deprecated in favor of reg:squarederror.\n",
            "[05:45:11] WARNING: /workspace/src/objective/regression_obj.cu:152: reg:linear is now deprecated in favor of reg:squarederror.\n",
            "[05:47:11] WARNING: /workspace/src/objective/regression_obj.cu:152: reg:linear is now deprecated in favor of reg:squarederror.\n",
            "[05:49:08] WARNING: /workspace/src/objective/regression_obj.cu:152: reg:linear is now deprecated in favor of reg:squarederror.\n",
            "[05:51:06] WARNING: /workspace/src/objective/regression_obj.cu:152: reg:linear is now deprecated in favor of reg:squarederror.\n",
            "[05:53:02] WARNING: /workspace/src/objective/regression_obj.cu:152: reg:linear is now deprecated in favor of reg:squarederror.\n",
            "0.5196166728693711 0.781622627465575 5.0217907938389414 0.9623188251693942 67172\n"
          ]
        }
      ],
      "source": [
        "acc_1, acc_2, MSE, MAE, ds_size = evaluate_xgboost(\"/content/wordnet_embeddings_3.tsv\", 20)\n",
        "\n",
        "print(acc_1, acc_2, MSE, MAE, ds_size)"
      ]
    }
  ],
  "metadata": {
    "colab": {
      "provenance": []
    },
    "kernelspec": {
      "display_name": "Python 3",
      "name": "python3"
    },
    "language_info": {
      "name": "python"
    }
  },
  "nbformat": 4,
  "nbformat_minor": 0
}