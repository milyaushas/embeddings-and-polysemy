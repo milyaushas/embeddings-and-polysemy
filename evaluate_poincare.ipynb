{
  "nbformat": 4,
  "nbformat_minor": 0,
  "metadata": {
    "colab": {
      "provenance": []
    },
    "kernelspec": {
      "name": "python3",
      "display_name": "Python 3"
    },
    "language_info": {
      "name": "python"
    }
  },
  "cells": [
    {
      "cell_type": "code",
      "source": [
        "import nltk\n",
        "nltk.download('wordnet')\n",
        "nltk.download('omw-1.4')"
      ],
      "metadata": {
        "colab": {
          "base_uri": "https://localhost:8080/"
        },
        "id": "7F-kO101mC-l",
        "outputId": "1dec38ca-3535-4579-f0d4-8c1562ec8c7f"
      },
      "execution_count": null,
      "outputs": [
        {
          "output_type": "stream",
          "name": "stderr",
          "text": [
            "[nltk_data] Downloading package wordnet to /root/nltk_data...\n",
            "[nltk_data]   Package wordnet is already up-to-date!\n",
            "[nltk_data] Downloading package omw-1.4 to /root/nltk_data...\n"
          ]
        },
        {
          "output_type": "execute_result",
          "data": {
            "text/plain": [
              "True"
            ]
          },
          "metadata": {},
          "execution_count": 9
        }
      ]
    },
    {
      "cell_type": "code",
      "source": [
        "import random\n",
        "import numpy as np\n",
        "\n",
        "def sample(defs_count, embs):\n",
        "    words = []\n",
        "    for word in embs.keys():\n",
        "        if word in defs_count:\n",
        "            words.append(word)\n",
        "            \n",
        "    random.shuffle(words)\n",
        "    \n",
        "    X = np.array([embs[w] for w in words])\n",
        "    y = np.array([defs_count[w] for w in words])\n",
        "    \n",
        "    return X, y"
      ],
      "metadata": {
        "id": "RadYjC7ninUW"
      },
      "execution_count": null,
      "outputs": []
    },
    {
      "cell_type": "code",
      "source": [
        "def accuracy_1(y_true, y_predicted):\n",
        "  count = 0\n",
        "  for i in range(len(y_true)):\n",
        "    if y_true[i] == round(y_predicted[i]):\n",
        "      count += 1\n",
        "  return count / len(y_true)"
      ],
      "metadata": {
        "id": "fORZzCFjkGvO"
      },
      "execution_count": null,
      "outputs": []
    },
    {
      "cell_type": "code",
      "source": [
        "def accuracy_2(y_true, y_predicted, eps):\n",
        "  count = 0\n",
        "  for i in range(len(y_true)):\n",
        "    if abs(y_true[i] - y_predicted[i]) <= eps:\n",
        "      count += 1\n",
        "  return count / len(y_true)"
      ],
      "metadata": {
        "id": "U-xjTGibkHaK"
      },
      "execution_count": null,
      "outputs": []
    },
    {
      "cell_type": "code",
      "execution_count": null,
      "metadata": {
        "id": "noZhI8H0iLl5"
      },
      "outputs": [],
      "source": [
        "from os import XATTR_REPLACE\n",
        "import pandas as pd\n",
        "from nltk.corpus import wordnet as wn\n",
        "from sklearn.linear_model import LinearRegression\n",
        "from sklearn.model_selection import train_test_split\n",
        "from sklearn.metrics import mean_absolute_error, mean_squared_error\n",
        "import numpy as np\n",
        "\n",
        "def evaluate(ds_filename, n):\n",
        "    df = pd.read_table(ds_filename, header=None)\n",
        "    \n",
        "    embeddings = dict() #key - word, value - embedding\n",
        "    for data in df.values:\n",
        "        embeddings[data[0]] = data[1:]\n",
        "    \n",
        "    definitions_num = dict() #key - word, value - number of synsets\n",
        "    for lemma in wn.all_lemma_names():\n",
        "      definitions_num[lemma] = len(wn.synsets(lemma))\n",
        "    \n",
        "    X, y = sample(definitions_num, embeddings)\n",
        "    \n",
        "    MSE = np.zeros(n)\n",
        "    MAE = np.zeros(n)\n",
        "    acc_1 = np.zeros(n)\n",
        "    acc_2 = np.zeros(n) \n",
        "\n",
        "    for i in range(n):\n",
        "      X_train, X_test, y_train, y_test = train_test_split(X, y, test_size=0.2)\n",
        "      lin_reg = LinearRegression().fit(X_train, y_train)\n",
        "    \n",
        "      y_pred = lin_reg.predict(X_test)\n",
        "      y_true = y_test\n",
        "\n",
        "      MSE[i] = mean_squared_error(y_true, y_pred)\n",
        "      MAE[i] = mean_absolute_error(y_true, y_pred)\n",
        "      acc_1[i] = accuracy_1(y_true, y_pred)\n",
        "      acc_2[i] = accuracy_2(y_true, y_pred, 1)\n",
        "    \n",
        "    return acc_1.mean(), acc_2.mean(), MSE.mean(), MAE.mean(), len(X)\n"
      ]
    },
    {
      "cell_type": "markdown",
      "source": [
        "dim = 10"
      ],
      "metadata": {
        "id": "U-H2h3lJk39y"
      }
    },
    {
      "cell_type": "code",
      "source": [
        "acc_1, acc_2, MSE, MAE, ds_size = evaluate(\"/content/wordnet_embeddings_1.tsv\", 100)\n",
        "\n",
        "print(acc_1, acc_2, MSE, MAE, ds_size)"
      ],
      "metadata": {
        "colab": {
          "base_uri": "https://localhost:8080/",
          "height": 205
        },
        "id": "wQAgfbOGk0_t",
        "outputId": "3cee7d81-d34b-4b6d-8df2-bdb0faf67d5c"
      },
      "execution_count": 1,
      "outputs": [
        {
          "output_type": "error",
          "ename": "NameError",
          "evalue": "ignored",
          "traceback": [
            "\u001b[0;31m---------------------------------------------------------------------------\u001b[0m",
            "\u001b[0;31mNameError\u001b[0m                                 Traceback (most recent call last)",
            "\u001b[0;32m<ipython-input-1-f829fa403a0e>\u001b[0m in \u001b[0;36m<module>\u001b[0;34m\u001b[0m\n\u001b[0;32m----> 1\u001b[0;31m \u001b[0macc_1\u001b[0m\u001b[0;34m,\u001b[0m \u001b[0macc_2\u001b[0m\u001b[0;34m,\u001b[0m \u001b[0mMSE\u001b[0m\u001b[0;34m,\u001b[0m \u001b[0mMAE\u001b[0m\u001b[0;34m,\u001b[0m \u001b[0mds_size\u001b[0m \u001b[0;34m=\u001b[0m \u001b[0mevaluate\u001b[0m\u001b[0;34m(\u001b[0m\u001b[0;34m\"/content/wordnet_embeddings_1.tsv\"\u001b[0m\u001b[0;34m,\u001b[0m \u001b[0;36m100\u001b[0m\u001b[0;34m)\u001b[0m\u001b[0;34m\u001b[0m\u001b[0;34m\u001b[0m\u001b[0m\n\u001b[0m\u001b[1;32m      2\u001b[0m \u001b[0;34m\u001b[0m\u001b[0m\n\u001b[1;32m      3\u001b[0m \u001b[0mprint\u001b[0m\u001b[0;34m(\u001b[0m\u001b[0macc_1\u001b[0m\u001b[0;34m,\u001b[0m \u001b[0macc_2\u001b[0m\u001b[0;34m,\u001b[0m \u001b[0mMSE\u001b[0m\u001b[0;34m,\u001b[0m \u001b[0mMAE\u001b[0m\u001b[0;34m,\u001b[0m \u001b[0mds_size\u001b[0m\u001b[0;34m)\u001b[0m\u001b[0;34m\u001b[0m\u001b[0;34m\u001b[0m\u001b[0m\n",
            "\u001b[0;31mNameError\u001b[0m: name 'evaluate' is not defined"
          ]
        }
      ]
    },
    {
      "cell_type": "markdown",
      "source": [
        "dim = 2"
      ],
      "metadata": {
        "id": "_DQGsxPtnN8j"
      }
    },
    {
      "cell_type": "code",
      "source": [
        "acc_1, acc_2, MSE, MAE, ds_size = evaluate(\"/content/wordnet_embeddings_2.tsv\", 100)\n",
        "\n",
        "print(acc_1, acc_2, MSE, MAE, ds_size)"
      ],
      "metadata": {
        "colab": {
          "base_uri": "https://localhost:8080/"
        },
        "id": "pKAZWzBhnPl4",
        "outputId": "af60b8ab-20a8-410c-f50d-94ab70c8a868"
      },
      "execution_count": null,
      "outputs": [
        {
          "output_type": "stream",
          "name": "stdout",
          "text": [
            "0.3200669892072943 0.8775199106810567 5.116235428974448 1.029472259260257 67172\n"
          ]
        }
      ]
    },
    {
      "cell_type": "markdown",
      "source": [
        "dim = 100"
      ],
      "metadata": {
        "id": "CDxgcH2anmQz"
      }
    },
    {
      "cell_type": "code",
      "source": [
        "acc_1, acc_2, MSE, MAE, ds_size = evaluate(\"/content/wordnet_embeddings_3.tsv\", 100)\n",
        "\n",
        "print(acc_1, acc_2, MSE, MAE, ds_size)"
      ],
      "metadata": {
        "colab": {
          "base_uri": "https://localhost:8080/"
        },
        "id": "CmeWQ-A8nloG",
        "outputId": "71a7f4cf-7ba1-4df9-bc1c-5f2a3c236c1c"
      },
      "execution_count": null,
      "outputs": [
        {
          "output_type": "stream",
          "name": "stdout",
          "text": [
            "0.40264532936360253 0.7568492742835877 4.982347716069422 0.9835145702498126 67172\n"
          ]
        }
      ]
    },
    {
      "cell_type": "markdown",
      "source": [
        "dim = 2, v2.0"
      ],
      "metadata": {
        "id": "KwNMp8ZC1ywV"
      }
    },
    {
      "cell_type": "code",
      "source": [
        "acc_1, acc_2, MSE, MAE, ds_size = evaluate(\"/content/wordnet_embeddings_7.tsv\", 100)\n",
        "\n",
        "print(acc_1, acc_2, MSE, MAE, ds_size)"
      ],
      "metadata": {
        "colab": {
          "base_uri": "https://localhost:8080/"
        },
        "id": "_vZhxnJt11qU",
        "outputId": "643ec715-3cc8-41fe-ce25-4d407d8d9aae"
      },
      "execution_count": null,
      "outputs": [
        {
          "output_type": "stream",
          "name": "stdout",
          "text": [
            "0.2201741719389654 0.879510978786751 5.241157914344801 1.0398291439288463 67172\n"
          ]
        }
      ]
    },
    {
      "cell_type": "markdown",
      "source": [
        "dim = 10, v2.0\n"
      ],
      "metadata": {
        "id": "N8UokzMQ6Gev"
      }
    },
    {
      "cell_type": "code",
      "source": [
        "acc_1, acc_2, MSE, MAE, ds_size = evaluate(\"/content/wordnet_embeddings_6.tsv\", 100)\n",
        "\n",
        "print(acc_1, acc_2, MSE, MAE, ds_size)"
      ],
      "metadata": {
        "colab": {
          "base_uri": "https://localhost:8080/"
        },
        "id": "P0ahSxF16Jbh",
        "outputId": "32821402-ffd5-48a3-f306-0f3488f4bd2a"
      },
      "execution_count": null,
      "outputs": [
        {
          "output_type": "stream",
          "name": "stdout",
          "text": [
            "0.3523572757722367 0.7726185336806849 5.002628822725369 1.0138703071560842 67172\n"
          ]
        }
      ]
    },
    {
      "cell_type": "markdown",
      "source": [
        "dim = 5"
      ],
      "metadata": {
        "id": "4LfWeB6x_gSD"
      }
    },
    {
      "cell_type": "code",
      "source": [
        "acc_1, acc_2, MSE, MAE, ds_size = evaluate(\"/content/wordnet_embeddings_8.tsv\", 100)\n",
        "\n",
        "print(acc_1, acc_2, MSE, MAE, ds_size)"
      ],
      "metadata": {
        "colab": {
          "base_uri": "https://localhost:8080/"
        },
        "id": "QNtijts79kf2",
        "outputId": "4ea393ec-9da1-43f6-adb7-81c0fb75da5b"
      },
      "execution_count": null,
      "outputs": [
        {
          "output_type": "stream",
          "name": "stdout",
          "text": [
            "0.32740230740602905 0.7687718645329363 5.11674478994841 1.0182813150849672 67172\n"
          ]
        }
      ]
    },
    {
      "cell_type": "markdown",
      "source": [
        "dim = 2, v3.0"
      ],
      "metadata": {
        "id": "Up9-spi0DIhI"
      }
    },
    {
      "cell_type": "code",
      "source": [
        "acc_1, acc_2, MSE, MAE, ds_size = evaluate(\"/content/wordnet_embeddings_9.tsv\", 100)\n",
        "\n",
        "print(acc_1, acc_2, MSE, MAE, ds_size)"
      ],
      "metadata": {
        "colab": {
          "base_uri": "https://localhost:8080/"
        },
        "id": "DQlFJ0Lc_frw",
        "outputId": "412f626c-cbfc-4036-ed6a-08fecdd3a7d7"
      },
      "execution_count": null,
      "outputs": [
        {
          "output_type": "stream",
          "name": "stdout",
          "text": [
            "0.28747376256047635 0.8798094529214737 5.118903820448165 1.0273001811967604 67172\n"
          ]
        }
      ]
    }
  ]
}